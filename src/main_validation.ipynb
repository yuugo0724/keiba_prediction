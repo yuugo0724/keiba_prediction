{
 "cells": [
  {
   "cell_type": "markdown",
   "metadata": {},
   "source": [
    "# 競馬予測"
   ]
  },
  {
   "cell_type": "markdown",
   "metadata": {},
   "source": [
    "## 0. colabの環境を整える"
   ]
  },
  {
   "cell_type": "markdown",
   "metadata": {},
   "source": [
    "### 0-1. git clone"
   ]
  },
  {
   "cell_type": "code",
   "execution_count": null,
   "metadata": {},
   "outputs": [],
   "source": [
    "!git clone https://github.com/yuugo0724/keiba_prediction.git"
   ]
  },
  {
   "cell_type": "markdown",
   "metadata": {},
   "source": [
    "### 0-2. 作業ブランチの作成"
   ]
  },
  {
   "cell_type": "code",
   "execution_count": null,
   "metadata": {},
   "outputs": [],
   "source": [
    "# cloneしたディレクトリに移動\n",
    "%cd ./keiba_prediction\n",
    "\n",
    "# ブランチ名がmainであること\n",
    "!git branch\n",
    "# 作業ブランチの作成\n",
    "!git branch [作業ブランチ名]\n",
    "# 作業ブランチにチェックアウト\n",
    "!git checkout [作業ブランチ名]\n",
    "# 作業ブランチにチェックアウトできていることを確認\n",
    "!git branch"
   ]
  },
  {
   "cell_type": "markdown",
   "metadata": {},
   "source": [
    "### 0-2. ソースコードのディレクトリに移動"
   ]
  },
  {
   "cell_type": "code",
   "execution_count": null,
   "metadata": {},
   "outputs": [],
   "source": [
    "%cd src/"
   ]
  },
  {
   "cell_type": "markdown",
   "metadata": {},
   "source": [
    "### 0-3. pythonのライブラリをインストール"
   ]
  },
  {
   "cell_type": "code",
   "execution_count": null,
   "metadata": {},
   "outputs": [],
   "source": [
    "pip install -r ../dockerfile/requirements.txt"
   ]
  },
  {
   "cell_type": "markdown",
   "metadata": {},
   "source": [
    "## 1. モジュールやライブラリのインポート"
   ]
  },
  {
   "cell_type": "markdown",
   "metadata": {},
   "source": [
    "### 1-1. インポート"
   ]
  },
  {
   "cell_type": "code",
   "execution_count": 25,
   "metadata": {},
   "outputs": [],
   "source": [
    "\"\"\"\n",
    "ライブラリ\n",
    "\"\"\"\n",
    "import os\n",
    "import re\n",
    "import subprocess\n",
    "import numpy as np\n",
    "import pandas as pd\n",
    "from sklearn.model_selection import train_test_split\n",
    "#import lightgbm as lgb\n",
    "#from optuna.integration import lightgbm as lgb\n",
    "import optuna.integration.lightgbm as lgb\n",
    "import lightgbm as lgb_orig\n",
    "\n",
    "\"\"\"\n",
    "モジュール(定数)\n",
    "\"\"\"\n",
    "# ローカルパス\n",
    "from modules.constants import LocalPaths\n",
    "# データフレームの列名\n",
    "#from modules.constants import ResultsCols\n",
    "# レース名のマスター\n",
    "from modules.constants import RaceInfo\n",
    "# スクレイピングのパス\n",
    "#from modules.constants import ScrapyPath\n",
    "\n",
    "\"\"\"\n",
    "モジュール(前処理)\n",
    "\"\"\"\n",
    "# 前処理\n",
    "#from modules.preprocess import shaping\n",
    "from modules.preprocess import _scrapy_data\n"
   ]
  },
  {
   "cell_type": "markdown",
   "metadata": {},
   "source": [
    "### 1-2. ローカルパスの定義"
   ]
  },
  {
   "cell_type": "code",
   "execution_count": 26,
   "metadata": {},
   "outputs": [],
   "source": [
    "# インスタンス化(path_list => pl)\n",
    "lp = LocalPaths()\n",
    "ri = RaceInfo()\n",
    "# プロジェクトのベースディレクトリ\n",
    "base_dir = lp.BASE_DIR\n",
    "# scrapyのベースディレクトリ\n",
    "scrapy_dir = lp.SCRAPY_DIR\n",
    "# scrapy keibaプロジェクトのパス\n",
    "scrapy_keiba_dir = lp.SCRAPY_KEIBA_DIR\n",
    "# dataディレクトリ\n",
    "data_dir = lp.DATA_DIR\n",
    "# レース結果スクレイピング用url格納ディレクトリ\n",
    "data_url_dir = lp.DATA_URL_DIR\n",
    "# masterデータ格納ディレクトリ\n",
    "data_master_dir = lp.DATA_MASTER_DIR\n",
    "data_tmp_dir = lp.DATA_TMP_DIR\n",
    "# gradesデータ格納ディレクトリ\n",
    "data_grades_dir = lp.DATA_GRADES_DIR\n",
    "# horse_gradesデータ格納ディレクトリ\n",
    "data_horse_grades_dir = lp.DATA_HORSE_GRADES_DIR\n",
    "# pedigreeデータ格納ディレクトリ\n",
    "data_pedigree_dir = lp.DATA_PEDIGREE_DIR\n",
    "# gradesのmaster\n",
    "data_grades_master = lp.DATA_GRADES_MASTER\n",
    "# horse_idのmaster\n",
    "data_horse_id_master = lp.DATA_HORSE_ID_MASTER\n",
    "\n",
    "# 競馬場ID\n",
    "place_dict = ri.PLACE_DICT\n",
    "# urlの正常性チェックプログラムのパス\n",
    "#sy_unc_path = base_path + 'scrapy/url_normality_check.py'\n"
   ]
  },
  {
   "cell_type": "markdown",
   "metadata": {},
   "source": [
    "## 2. 学習データ作成\n"
   ]
  },
  {
   "cell_type": "markdown",
   "metadata": {},
   "source": [
    "### 2-1. 成績マスターの作成"
   ]
  },
  {
   "cell_type": "code",
   "execution_count": 27,
   "metadata": {},
   "outputs": [],
   "source": [
    "# 成績マスターの読み込み\n",
    "grades_master = pd.read_pickle(data_grades_master)\n",
    "# 欠損地の削除\n",
    "grades_master = grades_master.dropna(how='any')\n",
    "# 体重増減を整数化(記号を削除)\n",
    "grades_master['馬体重増減'] = grades_master['馬体重増減'].replace(\"+\",\"\").astype('int')\n",
    "# 性齢の分割\n",
    "sexual_age = grades_master['性齢']\n",
    "sex = sexual_age.replace('[0-9]+',\"\", regex=True)\n",
    "age = sexual_age.replace(\"\\D\",\"\", regex=True)\n",
    "grades_master['性'] = sex\n",
    "grades_master['齢'] = age.astype(int)\n",
    "# レース名の処理\n",
    "place_id_list = []\n",
    "race_id_list = grades_master['レースID']\n",
    "for place_id in race_id_list:\n",
    "  place_id_list.append(place_dict[place_id[4:6]])\n",
    "grades_master['競馬場'] = place_id_list\n",
    "# 競馬場指定\n",
    "grades_master = grades_master[grades_master['競馬場']=='中山']\n",
    "\n"
   ]
  },
  {
   "cell_type": "markdown",
   "metadata": {},
   "source": [
    "#### 2-2-5. カテゴリ変数をダミー変数化"
   ]
  },
  {
   "cell_type": "code",
   "execution_count": 28,
   "metadata": {},
   "outputs": [],
   "source": [
    "#grades_master = pd.get_dummies(grades_master,columns=['レース名'])\n",
    "grades_master = pd.get_dummies(grades_master,columns=['回り'])\n",
    "grades_master = pd.get_dummies(grades_master,columns=['天候'])\n",
    "grades_master = pd.get_dummies(grades_master,columns=['タイプ'])\n",
    "grades_master = pd.get_dummies(grades_master,columns=['馬場状態'])\n",
    "grades_master = pd.get_dummies(grades_master,columns=['馬名'])\n",
    "grades_master = pd.get_dummies(grades_master,columns=['騎手'])\n",
    "grades_master = pd.get_dummies(grades_master,columns=['調教師'])\n",
    "grades_master = pd.get_dummies(grades_master,columns=['性'])"
   ]
  },
  {
   "cell_type": "markdown",
   "metadata": {},
   "source": [
    "#### 2-2-6. 不要な列を削除"
   ]
  },
  {
   "cell_type": "code",
   "execution_count": 29,
   "metadata": {},
   "outputs": [],
   "source": [
    "grades_master = grades_master.drop('レースID', axis=1)\n",
    "grades_master = grades_master.drop('レース名', axis=1)\n",
    "grades_master = grades_master.drop('競馬場', axis=1)\n",
    "grades_master = grades_master.drop('馬番', axis=1)\n",
    "grades_master = grades_master.drop('性齢', axis=1)\n",
    "grades_master = grades_master.drop('タイム', axis=1)\n",
    "grades_master = grades_master.drop('単勝', axis=1)\n",
    "grades_master = grades_master.drop('人気', axis=1)\n",
    "grades_master = grades_master.drop('馬ID', axis=1)\n",
    "grades_master = grades_master.drop('調教師ID', axis=1)"
   ]
  },
  {
   "cell_type": "markdown",
   "metadata": {},
   "source": [
    "#### 2-2-7. データフレームの型をintに変換\n",
    "変換対象列  \n",
    "- 距離  \n",
    "- 枠番  \n",
    "- 斥量  \n",
    "- 馬体重"
   ]
  },
  {
   "cell_type": "markdown",
   "metadata": {},
   "source": [
    "スクレイピングのバグで距離列に空白が含まれていたのでそちらを削除  \n",
    "※現時点では修正済み"
   ]
  },
  {
   "cell_type": "code",
   "execution_count": 30,
   "metadata": {},
   "outputs": [],
   "source": [
    "grades_master['距離'] = grades_master['距離'].astype(int)\n",
    "grades_master['枠番'] = grades_master['枠番'].astype(int)\n",
    "grades_master['斥量'] = grades_master['斥量'].astype(float)\n",
    "grades_master['馬体重'] = grades_master['馬体重'].astype(int)\n",
    "grades_master['着順'] = pd.to_numeric(grades_master['着順'],errors='coerce')\n",
    "grades_master = grades_master.dropna(how='any', axis=0)\n",
    "grades_master['着順'] = grades_master['着順'].astype('int')"
   ]
  },
  {
   "cell_type": "markdown",
   "metadata": {},
   "source": [
    "#### 2-2-7. 3着以内とそれ以外でデータを2分類化する"
   ]
  },
  {
   "cell_type": "code",
   "execution_count": null,
   "metadata": {},
   "outputs": [],
   "source": [
    "grades_master.loc[grades_master['着順']<=3,['着順']] = 1\n",
    "grades_master.loc[grades_master['着順']>3,['着順']] = 0"
   ]
  },
  {
   "cell_type": "markdown",
   "metadata": {},
   "source": [
    "#### １着、２着、３着、それ以外で多分類化する"
   ]
  },
  {
   "cell_type": "code",
   "execution_count": 31,
   "metadata": {},
   "outputs": [],
   "source": [
    "grades_master.loc[grades_master['着順']==1,['着順']] = 1\n",
    "grades_master.loc[grades_master['着順']==2,['着順']] = 2\n",
    "grades_master.loc[grades_master['着順']==3,['着順']] = 3\n",
    "grades_master.loc[grades_master['着順']>3,['着順']] = 0"
   ]
  },
  {
   "cell_type": "markdown",
   "metadata": {},
   "source": [
    "### F値の調整"
   ]
  },
  {
   "cell_type": "code",
   "execution_count": 32,
   "metadata": {},
   "outputs": [
    {
     "name": "stdout",
     "output_type": "stream",
     "text": [
      "580\n",
      "581\n",
      "581\n",
      "6713\n",
      "0    580\n",
      "1    580\n",
      "2    580\n",
      "3    580\n",
      "Name: 着順, dtype: int64\n",
      "(1624, 5162)\n",
      "(696, 5162)\n",
      "(1624,)\n",
      "(696,)\n"
     ]
    }
   ],
   "source": [
    "# データ不均衡を修正\n",
    "from imblearn.under_sampling import RandomUnderSampler\n",
    "#print(y_train[y_train['着順']==1].value_counts())\n",
    "#print(y_train[y_train['着順']==2].value_counts())\n",
    "#print(y_train[y_train['着順']==3].value_counts())\n",
    "#print(y_train[y_train['着順']==0].value_counts())\n",
    "x_train = grades_master.drop(['着順'], axis=1)\n",
    "y_train = grades_master['着順']\n",
    "\n",
    "y_train_1 = [i for i in y_train if i == 1]\n",
    "y_train_2 = [i for i in y_train if i == 2]\n",
    "y_train_3 = [i for i in y_train if i == 3]\n",
    "y_train_0 = [i for i in y_train if i == 0]\n",
    "y_train_min = []\n",
    "print(len(y_train_1))\n",
    "y_train_min.append(len(y_train_1))\n",
    "print(len(y_train_2))\n",
    "y_train_min.append(len(y_train_2))\n",
    "print(len(y_train_3))\n",
    "y_train_min.append(len(y_train_3))\n",
    "print(len(y_train_0))\n",
    "y_train_min.append(len(y_train_0))\n",
    "y_train_min = min(y_train_min)\n",
    "\n",
    "# 学習データをアンダーサンプリング\n",
    "count_y = y_train_min\n",
    "#count_1 = len(y_train_3)\n",
    "#count_1 = y_train.value_counts()[1]\n",
    "#count_2 = y_train.value_counts()[1]\n",
    "#count_3 = y_train.value_counts()[1]\n",
    "#count_0 = y_train.value_counts()[1]\n",
    "rus = RandomUnderSampler(sampling_strategy={0:count_y, 1:count_y, 2:count_y, 3:count_y})\n",
    "x_train_rus, y_train_rus = rus.fit_resample(x_train, y_train)\n",
    "print(y_train_rus.value_counts())\n",
    "#print(x_train_rus.value_counts())\n",
    "\n",
    "x_train, x_test, y_train, y_test = train_test_split(x_train_rus, y_train_rus, test_size=0.3)\n",
    "print(x_train.shape)\n",
    "print(x_test.shape)\n",
    "print(y_train.shape)\n",
    "print(y_test.shape)\n"
   ]
  },
  {
   "cell_type": "markdown",
   "metadata": {},
   "source": [
    "#### 1-5-4. 学習データと検証データに分ける"
   ]
  },
  {
   "cell_type": "markdown",
   "metadata": {},
   "source": [
    "### 1-6. 学習モデルの作成・学習"
   ]
  },
  {
   "cell_type": "code",
   "execution_count": 33,
   "metadata": {},
   "outputs": [],
   "source": [
    "lgb_train = lgb.Dataset(x_train, y_train)\n",
    "lgb_eval = lgb.Dataset(x_test, y_test)"
   ]
  },
  {
   "cell_type": "markdown",
   "metadata": {},
   "source": [
    "#### 1-6-1. ハイパーパラメータの設定"
   ]
  },
  {
   "cell_type": "code",
   "execution_count": null,
   "metadata": {},
   "outputs": [],
   "source": [
    "params = {\n",
    "  'objective': 'binary',\n",
    "  'metric': 'auc',\n",
    "}\n",
    "best_params, histroy ={}, []\n",
    "model = lgb.train(params,\n",
    "                  lgb_train,\n",
    "                  valid_sets=[lgb_train,lgb_eval],\n",
    "                  num_boost_round=10,\n",
    "                  early_stopping_rounds=10)\n",
    "best_params_ = model.params"
   ]
  },
  {
   "cell_type": "code",
   "execution_count": null,
   "metadata": {},
   "outputs": [],
   "source": [
    "params = {\n",
    "  'task': 'train',  #トレーニング用\n",
    "  'boosting_type': 'gbdt',  #勾配ブースティング決定木\n",
    "  'objective': 'multiclass',  #目的：多クラス分類\n",
    "  'num_class': 4,   #分類クラス数\n",
    "  'metric': 'multi_logloss',  #評価指標は多クラスのLog損失\n",
    "}\n",
    "model = lgb.train(params,\n",
    "                  lgb_train,\n",
    "                  valid_sets = [lgb_train,lgb_eval],\n",
    "                  num_boost_round = 100,\n",
    "                  early_stopping_rounds=10,\n",
    "                  )\n",
    "best_params_ = model.params"
   ]
  },
  {
   "cell_type": "code",
   "execution_count": 43,
   "metadata": {},
   "outputs": [
    {
     "name": "stdout",
     "output_type": "stream",
     "text": [
      "task\n",
      "boosting_type\n",
      "objective\n",
      "num_class\n",
      "metric\n",
      "feature_pre_filter\n",
      "lambda_l1\n",
      "lambda_l2\n",
      "num_leaves\n",
      "feature_fraction\n",
      "bagging_fraction\n",
      "bagging_freq\n",
      "min_child_samples\n",
      "num_iterations\n",
      "early_stopping_round\n"
     ]
    }
   ],
   "source": [
    "print(best_params)\n",
    "for param in best_params_:\n",
    "  print(param)\n",
    "#print(histroy)"
   ]
  },
  {
   "cell_type": "markdown",
   "metadata": {},
   "source": [
    "#### 1-6-2. 学習モデル作成"
   ]
  },
  {
   "cell_type": "code",
   "execution_count": null,
   "metadata": {},
   "outputs": [],
   "source": [
    "best_params, history = dict(), list()\n",
    "model = lgb_orig.train(best_params_,\n",
    "                        lgb_train,\n",
    "                        valid_sets=lgb_eval,\n",
    "                        num_boost_round=100,\n",
    "                        early_stopping_rounds=10\n",
    "#                        best_params=best_params,\n",
    "#                        tuning_history=history\n",
    "                        )"
   ]
  },
  {
   "cell_type": "code",
   "execution_count": 41,
   "metadata": {},
   "outputs": [
    {
     "name": "stdout",
     "output_type": "stream",
     "text": [
      "{}\n",
      "[]\n"
     ]
    }
   ],
   "source": [
    "print(best_params)\n",
    "print(history)"
   ]
  },
  {
   "cell_type": "markdown",
   "metadata": {},
   "source": [
    "###"
   ]
  },
  {
   "cell_type": "code",
   "execution_count": null,
   "metadata": {},
   "outputs": [],
   "source": [
    "#評価指標は以下４つ\n",
    "from sklearn.metrics import accuracy_score\n",
    "from sklearn.metrics import recall_score\n",
    "from sklearn.metrics import precision_score\n",
    "from sklearn.metrics import f1_score\n",
    "\n",
    "#pred = x_test.sample(n=1)\n",
    "#print(pred)\n",
    "preds = model.predict(x_test, num_iteration=model.best_iteration)\n",
    "y_pred = []\n",
    "for pred in preds:\n",
    "  y_pred.append(np.argmax(pred))\n",
    "\n",
    "#正解率など評価指標の計算\n",
    "print('正解率(accuracy_score):{}'.format(accuracy_score(y_test, y_pred)))\n",
    "#適合率、再現率、F1値はマクロ平均を取る\n",
    "print('再現率(recall_score):{}'.format(recall_score(y_test, y_pred, average='macro')))\n",
    "print('適合率(precision_score):{}'.format(precision_score(y_test, y_pred, average='macro')))\n",
    "print('F1値(f1_score):{}'.format(f1_score(y_test, y_pred, average='macro')))"
   ]
  },
  {
   "cell_type": "code",
   "execution_count": null,
   "metadata": {},
   "outputs": [],
   "source": [
    "from sklearn.metrics import classification_report\n",
    "print(classification_report(y_test, y_pred, digits=5)) "
   ]
  },
  {
   "cell_type": "code",
   "execution_count": null,
   "metadata": {},
   "outputs": [],
   "source": [
    "from sklearn.metrics import confusion_matrix\n",
    "print(confusion_matrix(y_test, y_pred, labels=[0, 1, 2, 3]))"
   ]
  },
  {
   "cell_type": "code",
   "execution_count": null,
   "metadata": {},
   "outputs": [],
   "source": [
    "import pickle\n",
    "model_file = '/home/keiba/src/models/f_preprocess.pkl'\n",
    "pickle.dump(model, open(model_file, 'wb'))"
   ]
  },
  {
   "cell_type": "code",
   "execution_count": null,
   "metadata": {},
   "outputs": [],
   "source": [
    "model = pickle.load(open('/home/keiba/src/models/f_preprocess.pkl', 'rb'))"
   ]
  },
  {
   "cell_type": "code",
   "execution_count": null,
   "metadata": {},
   "outputs": [],
   "source": [
    "import matplotlib.pyplot as plt\n",
    "plt.plot(best_params_[\"training\"][\"multi_logloss\"], color = \"red\", label = \"train\")\n",
    "plt.plot(best_params_[\"valid_1\"][\"multi_logloss\"], color = \"blue\", label = \"valid\")\n",
    "plt.legend()\n",
    "plt.show()"
   ]
  },
  {
   "cell_type": "code",
   "execution_count": null,
   "metadata": {},
   "outputs": [],
   "source": [
    "lgb.plot_tree(lgb, tree_index=0)"
   ]
  }
 ],
 "metadata": {
  "kernelspec": {
   "display_name": "Python 3.9.14 64-bit",
   "language": "python",
   "name": "python3"
  },
  "language_info": {
   "codemirror_mode": {
    "name": "ipython",
    "version": 3
   },
   "file_extension": ".py",
   "mimetype": "text/x-python",
   "name": "python",
   "nbconvert_exporter": "python",
   "pygments_lexer": "ipython3",
   "version": "3.9.15"
  },
  "orig_nbformat": 4,
  "vscode": {
   "interpreter": {
    "hash": "949777d72b0d2535278d3dc13498b2535136f6dfe0678499012e853ee9abcab1"
   }
  }
 },
 "nbformat": 4,
 "nbformat_minor": 2
}
