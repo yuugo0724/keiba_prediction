{
 "cells": [
  {
   "cell_type": "markdown",
   "metadata": {},
   "source": [
    "# 競馬予測"
   ]
  },
  {
   "cell_type": "markdown",
   "metadata": {},
   "source": [
    "## 0. colabの環境を整える"
   ]
  },
  {
   "cell_type": "markdown",
   "metadata": {},
   "source": [
    "### 0-1. git clone"
   ]
  },
  {
   "cell_type": "code",
   "execution_count": null,
   "metadata": {},
   "outputs": [],
   "source": [
    "!git clone https://github.com/yuugo0724/keiba_prediction.git"
   ]
  },
  {
   "cell_type": "markdown",
   "metadata": {},
   "source": [
    "### 0-2. ソースコードのディレクトリに移動"
   ]
  },
  {
   "cell_type": "code",
   "execution_count": null,
   "metadata": {},
   "outputs": [],
   "source": [
    "%cd keiba_prediction/src/"
   ]
  },
  {
   "cell_type": "markdown",
   "metadata": {},
   "source": [
    "### 0-3. pythonのライブラリをインストール"
   ]
  },
  {
   "cell_type": "code",
   "execution_count": null,
   "metadata": {},
   "outputs": [],
   "source": [
    "pip install -r ../dockerfile/requirements.txt"
   ]
  },
  {
   "cell_type": "markdown",
   "metadata": {},
   "source": [
    "## 1. モジュールやライブラリのインポート"
   ]
  },
  {
   "cell_type": "markdown",
   "metadata": {},
   "source": [
    "### 1-1. インポート"
   ]
  },
  {
   "cell_type": "code",
   "execution_count": null,
   "metadata": {},
   "outputs": [],
   "source": [
    "\"\"\"\n",
    "ライブラリ\n",
    "\"\"\"\n",
    "import os\n",
    "import re\n",
    "import subprocess\n",
    "import numpy as np\n",
    "import pandas as pd\n",
    "from sklearn.model_selection import train_test_split\n",
    "#import lightgbm as lgb\n",
    "from optuna.integration import lightgbm as lgb\n",
    "import lightgbm as lgb_orig\n",
    "\n",
    "\"\"\"\n",
    "モジュール(定数)\n",
    "\"\"\"\n",
    "# ローカルパス\n",
    "from modules.constants import LocalPaths\n",
    "# データフレームの列名\n",
    "#from modules.constants import ResultsCols\n",
    "# スクレイピングのパス\n",
    "#from modules.constants import ScrapyPath\n",
    "\n",
    "\"\"\"\n",
    "モジュール(前処理)\n",
    "\"\"\"\n",
    "# 前処理\n",
    "#from modules.preprocess import shaping\n",
    "from modules.preprocess import _scrapy_data\n"
   ]
  },
  {
   "cell_type": "markdown",
   "metadata": {},
   "source": [
    "### 1-2. ローカルパスの定義"
   ]
  },
  {
   "cell_type": "code",
   "execution_count": null,
   "metadata": {},
   "outputs": [],
   "source": [
    "# インスタンス化(path_list => pl)\n",
    "lp = LocalPaths()\n",
    "# プロジェクトのベースディレクトリ\n",
    "base_dir = lp.BASE_DIR\n",
    "# scrapyのベースディレクトリ\n",
    "scrapy_dir = lp.SCRAPY_DIR\n",
    "# scrapy keibaプロジェクトのパス\n",
    "scrapy_keiba_dir = lp.SCRAPY_KEIBA_DIR\n",
    "# dataディレクトリ\n",
    "data_dir = lp.DATA_DIR\n",
    "# レース結果スクレイピング用url格納ディレクトリ\n",
    "data_url_dir = lp.DATA_URL_DIR\n",
    "# masterデータ格納ディレクトリ\n",
    "data_master_dir = lp.DATA_MASTER_DIR\n",
    "data_tmp_dir = lp.DATA_TMP_DIR\n",
    "# gradesデータ格納ディレクトリ\n",
    "data_grades_dir = lp.DATA_GRADES_DIR\n",
    "# horse_gradesデータ格納ディレクトリ\n",
    "data_horse_grades_dir = lp.DATA_HORSE_GRADES_DIR\n",
    "# pedigreeデータ格納ディレクトリ\n",
    "data_pedigree_dir = lp.DATA_PEDIGREE_DIR\n",
    "# gradesのmaster\n",
    "data_grades_master = lp.DATA_GRADES_MASTER\n",
    "# horse_idのmaster\n",
    "data_horse_id_master = lp.DATA_HORSE_ID_MASTER\n",
    "# urlの正常性チェックプログラムのパス\n",
    "#sy_unc_path = base_path + 'scrapy/url_normality_check.py'\n"
   ]
  },
  {
   "cell_type": "markdown",
   "metadata": {},
   "source": [
    "## 2. 学習データ作成\n",
    "2-1. スクレイピングを実施  \n",
    "2-2. 前処理  \n",
    "2-3. 学習データを説明変数と目的変数に分割  \n"
   ]
  },
  {
   "cell_type": "markdown",
   "metadata": {},
   "source": [
    "### 2-1. スクレイピング\n",
    "- スクレイピング対象のurlを取得  \n",
    "- レース結果データを取得  \n",
    "- 馬ごとの成績データを取得  \n",
    "  ※学習データとしては、まだ利用していない  \n",
    "- 血統データを取得  \n",
    "  ※学習データとしては、まだ利用していない  "
   ]
  },
  {
   "cell_type": "markdown",
   "metadata": {},
   "source": [
    "#### 2-1-1. 変数の定義"
   ]
  },
  {
   "cell_type": "code",
   "execution_count": null,
   "metadata": {},
   "outputs": [],
   "source": [
    "# レース結果スクレイピング対象のurl取得\n",
    "proc_coll_url = lp.PROC_COLL_URL\n",
    "log_coll_url = lp.LOG_COLL_URL\n",
    "# レース結果スクレイピング\n",
    "proc_coll_grades = lp.PROC_COLL_GRADES\n",
    "log_coll_grades = lp.LOG_COLL_GRADES\n",
    "# 馬ごとのレース結果スクレイピング\n",
    "proc_coll_horse_grades = lp.PROC_COLL_HORSE_GRADES\n",
    "log_coll_horse_grades = lp.LOG_COLL_HORSE_GRADES\n",
    "# 馬ごとの血統データスクレイピング\n",
    "proc_coll_pedigree = lp.PROC_COLL_PEDIGREE\n",
    "log_coll_pedigree = lp.LOG_COLL_PEDIGREE\n"
   ]
  },
  {
   "cell_type": "markdown",
   "metadata": {},
   "source": [
    "#### 2-1-2. スクレイピング対象のurl取得"
   ]
  },
  {
   "cell_type": "code",
   "execution_count": null,
   "metadata": {},
   "outputs": [],
   "source": [
    "df_gen_date = pd.date_range(start=\"20120101\",end=\"20221101\", freq=\"MS\")\n",
    "df_date = df_gen_date.to_series().dt.strftime(\"%Y%m\")\n",
    "horse_id_list = df_date.values\n",
    "\n",
    "os.chdir(scrapy_keiba_dir)\n",
    "with open(log_coll_url, 'w') as f:\n",
    "  for horse_id in horse_id_list:\n",
    "    date_dir = os.path.join(data_url_dir,horse_id[0:4])\n",
    "    os.makedirs(date_dir, exist_ok=True)\n",
    "    scrapy_cmd = [\"python3\",proc_coll_url,horse_id,date_dir,data_url_dir]\n",
    "    scrapy_proc = subprocess.Popen(scrapy_cmd, stdout=f, stderr=f)\n",
    "    scrapy_proc.wait()\n",
    "os.chdir(base_dir)"
   ]
  },
  {
   "cell_type": "markdown",
   "metadata": {},
   "source": [
    "#### 2-1-3. レース結果のパスリスト作成"
   ]
  },
  {
   "cell_type": "code",
   "execution_count": null,
   "metadata": {},
   "outputs": [],
   "source": [
    "url_file_list = []\n",
    "for current_dir, sub_dirs, files_list in os.walk(data_url_dir):\n",
    "  for file in files_list:\n",
    "    url_file_list.append(os.path.join(current_dir,file))"
   ]
  },
  {
   "cell_type": "markdown",
   "metadata": {},
   "source": [
    "#### 2-1-4. レース結果の取得"
   ]
  },
  {
   "cell_type": "markdown",
   "metadata": {},
   "source": [
    "##### 2-1-4-1. 取得対象のレース期間を指定"
   ]
  },
  {
   "cell_type": "code",
   "execution_count": null,
   "metadata": {},
   "outputs": [],
   "source": [
    "df_gen_date = pd.date_range(start=\"20200101\",end=\"20201201\", freq=\"MS\")\n",
    "df_date = df_gen_date.to_series().dt.strftime(\"%Y%m\")\n",
    "horse_id_list = df_date.values\n",
    "\n",
    "target_url_file_list = []\n",
    "for date in horse_id_list:\n",
    "  date_match = '.*/' + date + '.csv'\n",
    "  target_url_files = [url_file for url_file in url_file_list if re.match(date_match,url_file)]\n",
    "  if target_url_files:\n",
    "    target_url_file_list.extend(target_url_files)"
   ]
  },
  {
   "cell_type": "markdown",
   "metadata": {},
   "source": [
    "##### 2-1-4-2. レース結果のスクレイピング"
   ]
  },
  {
   "cell_type": "code",
   "execution_count": null,
   "metadata": {},
   "outputs": [],
   "source": [
    "os.chdir(scrapy_keiba_dir)\n",
    "with open(log_coll_grades, 'w') as f:\n",
    "  for url_file in target_url_file_list:\n",
    "    file_name = url_file.split('/')[-1].split('.')[0]\n",
    "    date_y = file_name[0:4]\n",
    "    date_m = file_name[4:6]\n",
    "    race_url_list = np.ravel(pd.read_csv(url_file,header=0).values.tolist())\n",
    "    date_dir = os.path.join(data_grades_dir,date_y,date_m)\n",
    "    os.makedirs(date_dir, exist_ok=True)\n",
    "    for race_url in race_url_list:\n",
    "      race_id = re.sub(\"\\D\",\"\", race_url)\n",
    "      scrapy_cmd = [\"python3\",proc_coll_grades,race_url,race_id,date_dir,data_grades_dir]\n",
    "      scrapy_proc = subprocess.Popen(scrapy_cmd, stdout=f, stderr=f)\n",
    "      scrapy_proc.wait()\n",
    "os.chdir(base_dir)\n",
    "\n",
    "# colabで取得する場合、時間がたつと切断されてしまうため、\n",
    "# 取得後ブランチを作ってpushする\n",
    "!git brach\n",
    "!git brach -M $(date +'%Y%m%d%H%M%S')\n",
    "!git add .\n",
    "!git commit -m \"スクレイピングの結果格納\"\n",
    "!git push"
   ]
  },
  {
   "cell_type": "markdown",
   "metadata": {},
   "source": [
    "#### 2-1-5. 成績マスターの作成\n",
    "※現状学習データに含めるつもりはないので実施不要  \n",
    "　今後、学習データに含める場合にコードを修正"
   ]
  },
  {
   "cell_type": "code",
   "execution_count": null,
   "metadata": {},
   "outputs": [],
   "source": [
    "race_list = []\n",
    "for current_dir, sub_dirs, files_list in os.walk(data_grades_dir):\n",
    "  for file in files_list:\n",
    "    race_list.append(os.path.join(current_dir,file))\n",
    "#print(race_list)\n",
    "_scrapy_data.create_grades_master(race_list,data_grades_dir)"
   ]
  },
  {
   "cell_type": "markdown",
   "metadata": {},
   "source": [
    "#### 2-1-6. 成績マスターの読み込み"
   ]
  },
  {
   "cell_type": "code",
   "execution_count": null,
   "metadata": {},
   "outputs": [],
   "source": [
    "grades_master = pd.read_pickle(data_grades_master)"
   ]
  },
  {
   "cell_type": "markdown",
   "metadata": {},
   "source": [
    "#### 2-1-7. 馬IDマスターの作成"
   ]
  },
  {
   "cell_type": "code",
   "execution_count": null,
   "metadata": {},
   "outputs": [],
   "source": [
    "df_horse_id_master = grades_master['馬ID']\n",
    "df_horse_id_master = df_horse_id_master.drop_duplicates()\n",
    "df_horse_id_master = df_horse_id_master.reset_index(drop=True)\n",
    "df_horse_id_master.to_pickle(data_horse_id_master)"
   ]
  },
  {
   "cell_type": "markdown",
   "metadata": {},
   "source": [
    "#### 2-1-8. 馬のレース結果を取得\n",
    "※現状学習データに含めるつもりはないので実施不要  \n",
    "　今後、学習データに含める場合にコードを修正"
   ]
  },
  {
   "cell_type": "code",
   "execution_count": null,
   "metadata": {},
   "outputs": [],
   "source": [
    "horse_id_list = [\"2018104963\",\"2018105074\"]\n",
    "\n",
    "os.chdir(scrapy_keiba_dir)\n",
    "with open(log_coll_horse_grades, 'w') as f:\n",
    "  for horse_id in horse_id_list:\n",
    "    scrapy_cmd = [\"python3\",proc_coll_horse_grades,horse_id,data_horse_grades_dir]\n",
    "    scrapy_proc = subprocess.Popen(scrapy_cmd, stdout=f, stderr=f)\n",
    "    scrapy_proc.wait()\n",
    "os.chdir(base_dir)"
   ]
  },
  {
   "cell_type": "markdown",
   "metadata": {},
   "source": [
    "#### 2-1-9. 血統データを取得\n",
    "※現状学習データに含めるつもりはないので実施不要  \n",
    "　今後、学習データに含める場合にコードを修正"
   ]
  },
  {
   "cell_type": "code",
   "execution_count": null,
   "metadata": {},
   "outputs": [],
   "source": [
    "horse_id_list = [\"2018104963\",\"2018105074\"]\n",
    "\n",
    "os.chdir(scrapy_keiba_dir)\n",
    "with open(log_coll_pedigree, 'w') as f:\n",
    "  for horse_id in horse_id_list:\n",
    "    scrapy_cmd = [\"python3\",proc_coll_pedigree,horse_id,data_horse_grades_dir]\n",
    "    scrapy_proc = subprocess.Popen(scrapy_cmd, stdout=f, stderr=f)\n",
    "    scrapy_proc.wait()\n",
    "os.chdir(base_dir)"
   ]
  },
  {
   "cell_type": "markdown",
   "metadata": {},
   "source": [
    "### 2-2. 前処理"
   ]
  },
  {
   "cell_type": "markdown",
   "metadata": {},
   "source": [
    "#### 2-2-1. 欠損値の削除"
   ]
  },
  {
   "cell_type": "code",
   "execution_count": null,
   "metadata": {},
   "outputs": [],
   "source": [
    "grades_master = grades_master.dropna(how='any')"
   ]
  },
  {
   "cell_type": "markdown",
   "metadata": {},
   "source": [
    "#### 2-2-2. 体重増減を整数化(記号を削除)"
   ]
  },
  {
   "cell_type": "code",
   "execution_count": null,
   "metadata": {},
   "outputs": [],
   "source": [
    "grades_master['馬体重増減'] = grades_master['馬体重増減'].replace(\"+\",\"\").astype('int')"
   ]
  },
  {
   "cell_type": "markdown",
   "metadata": {},
   "source": [
    "#### 2-2-3. 性齢の分割"
   ]
  },
  {
   "cell_type": "code",
   "execution_count": null,
   "metadata": {},
   "outputs": [],
   "source": [
    "sexual_age = grades_master['性齢']\n",
    "sex = sexual_age.replace('[0-9]+',\"\", regex=True)\n",
    "age = sexual_age.replace(\"\\D\",\"\", regex=True)\n",
    "grades_master['性'] = sex\n",
    "grades_master['齢'] = age.astype(int)"
   ]
  },
  {
   "cell_type": "markdown",
   "metadata": {},
   "source": [
    "#### 2-2-4. レース名の処理※要検討"
   ]
  },
  {
   "cell_type": "code",
   "execution_count": null,
   "metadata": {},
   "outputs": [],
   "source": [
    "grades_master['レース名'].drop_duplicates().to_csv('test.csv')"
   ]
  },
  {
   "cell_type": "markdown",
   "metadata": {},
   "source": [
    "#### 2-2-5. カテゴリ変数をダミー変数化"
   ]
  },
  {
   "cell_type": "code",
   "execution_count": null,
   "metadata": {},
   "outputs": [],
   "source": [
    "grades_master = pd.get_dummies(grades_master,columns=['レース名'])\n",
    "grades_master = pd.get_dummies(grades_master,columns=['回り'])\n",
    "grades_master = pd.get_dummies(grades_master,columns=['天候'])\n",
    "grades_master = pd.get_dummies(grades_master,columns=['タイプ'])\n",
    "grades_master = pd.get_dummies(grades_master,columns=['馬場状態'])\n",
    "grades_master = pd.get_dummies(grades_master,columns=['馬名'])\n",
    "grades_master = pd.get_dummies(grades_master,columns=['騎手'])\n",
    "grades_master = pd.get_dummies(grades_master,columns=['調教師'])\n",
    "grades_master = pd.get_dummies(grades_master,columns=['性'])"
   ]
  },
  {
   "cell_type": "markdown",
   "metadata": {},
   "source": [
    "#### 2-2-6. 不要な列を削除"
   ]
  },
  {
   "cell_type": "code",
   "execution_count": null,
   "metadata": {},
   "outputs": [],
   "source": [
    "grades_master = grades_master.drop('レースID', axis=1)\n",
    "grades_master = grades_master.drop('馬番', axis=1)\n",
    "grades_master = grades_master.drop('性齢', axis=1)\n",
    "grades_master = grades_master.drop('タイム', axis=1)\n",
    "grades_master = grades_master.drop('単勝', axis=1)\n",
    "grades_master = grades_master.drop('人気', axis=1)\n",
    "grades_master = grades_master.drop('馬ID', axis=1)\n",
    "grades_master = grades_master.drop('調教師ID', axis=1)"
   ]
  },
  {
   "cell_type": "markdown",
   "metadata": {},
   "source": [
    "#### 2-2-7. データフレームの型をintに変換\n",
    "変換対象列  \n",
    "- 距離  \n",
    "- 枠番  \n",
    "- 斥量  \n",
    "- 馬体重"
   ]
  },
  {
   "cell_type": "markdown",
   "metadata": {},
   "source": [
    "スクレイピングのバグで距離列に空白が含まれていたのでそちらを削除  \n",
    "※現時点では修正済み"
   ]
  },
  {
   "cell_type": "code",
   "execution_count": null,
   "metadata": {},
   "outputs": [],
   "source": [
    "grades_master = grades_master[grades_master['距離'] != '']"
   ]
  },
  {
   "cell_type": "code",
   "execution_count": null,
   "metadata": {},
   "outputs": [],
   "source": [
    "grades_master['距離'] = grades_master['距離'].astype(int)\n",
    "grades_master['枠番'] = grades_master['枠番'].astype(int)\n",
    "grades_master['斥量'] = grades_master['斥量'].astype(float)\n",
    "grades_master['馬体重'] = grades_master['馬体重'].astype(int)"
   ]
  },
  {
   "cell_type": "markdown",
   "metadata": {},
   "source": [
    "#### 2-2-7. 3着以内とそれ以外でデータを2分類化する"
   ]
  },
  {
   "cell_type": "code",
   "execution_count": null,
   "metadata": {},
   "outputs": [],
   "source": [
    "grades_master['着順'] = pd.to_numeric(grades_master['着順'],errors='coerce')\n",
    "grades_master = grades_master.dropna(how='any', axis=0)\n",
    "grades_master['着順'] = grades_master['着順'].astype('int')\n",
    "grades_master.loc[grades_master['着順']<=3,['着順']] = 1\n",
    "grades_master.loc[grades_master['着順']>3,['着順']] = 0"
   ]
  },
  {
   "cell_type": "code",
   "execution_count": null,
   "metadata": {},
   "outputs": [],
   "source": [
    "print(grades_master.dtypes)"
   ]
  },
  {
   "cell_type": "markdown",
   "metadata": {},
   "source": [
    "### 2-3. 学習データを説明変数と目的変数に分割"
   ]
  },
  {
   "cell_type": "code",
   "execution_count": null,
   "metadata": {},
   "outputs": [],
   "source": [
    "#df_tran_data = df_tran_data.drop(['馬体重(増減)'], axis=1)\n",
    "\n",
    "x = grades_master.drop(['着順'], axis=1)\n",
    "y = grades_master['着順']\n",
    "x_train, x_test, y_train, y_test = train_test_split(x, y, test_size=0.3)\n",
    "print(x_train.shape)\n",
    "print(x_test.shape)\n",
    "print(y_train.shape)\n",
    "print(y_test.shape)\n",
    "lgb_train = lgb.Dataset(x_train, y_train)\n",
    "lgb_eval = lgb.Dataset(x_test, y_test)"
   ]
  },
  {
   "cell_type": "markdown",
   "metadata": {},
   "source": [
    "#### 1-5-4. 学習データと検証データに分ける"
   ]
  },
  {
   "cell_type": "markdown",
   "metadata": {},
   "source": [
    "### 1-6. 学習モデルの作成・学習"
   ]
  },
  {
   "cell_type": "markdown",
   "metadata": {},
   "source": [
    "#### 1-6-1. ハイパーパラメータの設定"
   ]
  },
  {
   "cell_type": "code",
   "execution_count": 19,
   "metadata": {},
   "outputs": [],
   "source": [
    "params = {\n",
    "  'objective': 'binary',\n",
    "  'metric': 'auc',\n",
    "}\n",
    "best_params, histroy ={}, []\n",
    "model = lgb.train(params,\n",
    "                  lgb_train,\n",
    "                  valid_sets=[lgb_train,lgb_eval],\n",
    "                  num_boost_round=10,\n",
    "                  early_stopping_rounds=10)\n",
    "best_params_ = model.params"
   ]
  },
  {
   "cell_type": "markdown",
   "metadata": {},
   "source": [
    "#### 1-6-2. 学習モデル作成"
   ]
  },
  {
   "cell_type": "code",
   "execution_count": null,
   "metadata": {},
   "outputs": [],
   "source": [
    "model = lgb_orig.train(best_params_,\n",
    "                        lgb_train,\n",
    "                        valid_sets=lgb_eval,\n",
    "                        num_boost_round=100,\n",
    "                        early_stopping_rounds=10)"
   ]
  },
  {
   "cell_type": "markdown",
   "metadata": {},
   "source": [
    "###"
   ]
  },
  {
   "cell_type": "code",
   "execution_count": null,
   "metadata": {},
   "outputs": [],
   "source": [
    "pred = x_test.sample(n=1)\n",
    "#print(pred)\n",
    "y_pred = model.predict(pred)\n",
    "print(y_pred)"
   ]
  }
 ],
 "metadata": {
  "kernelspec": {
   "display_name": "Python 3.9.14 64-bit",
   "language": "python",
   "name": "python3"
  },
  "language_info": {
   "codemirror_mode": {
    "name": "ipython",
    "version": 3
   },
   "file_extension": ".py",
   "mimetype": "text/x-python",
   "name": "python",
   "nbconvert_exporter": "python",
   "pygments_lexer": "ipython3",
   "version": "3.9.15"
  },
  "orig_nbformat": 4,
  "vscode": {
   "interpreter": {
    "hash": "949777d72b0d2535278d3dc13498b2535136f6dfe0678499012e853ee9abcab1"
   }
  }
 },
 "nbformat": 4,
 "nbformat_minor": 2
}
