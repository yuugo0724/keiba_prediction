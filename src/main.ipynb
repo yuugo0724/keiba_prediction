{
 "cells": [
  {
   "attachments": {},
   "cell_type": "markdown",
   "metadata": {},
   "source": [
    "# 競馬予測_スクレイピング"
   ]
  },
  {
   "attachments": {},
   "cell_type": "markdown",
   "metadata": {},
   "source": [
    "### 0. colabの環境を整える"
   ]
  },
  {
   "attachments": {},
   "cell_type": "markdown",
   "metadata": {},
   "source": [
    "#### 0-1. git clone"
   ]
  },
  {
   "cell_type": "code",
   "execution_count": null,
   "metadata": {},
   "outputs": [],
   "source": [
    "!git clone https://github.com/yuugo0724/keiba_prediction.git"
   ]
  },
  {
   "attachments": {},
   "cell_type": "markdown",
   "metadata": {},
   "source": [
    "#### 0-2. 作業ブランチの作成"
   ]
  },
  {
   "cell_type": "code",
   "execution_count": null,
   "metadata": {},
   "outputs": [],
   "source": [
    "# cloneしたディレクトリに移動\n",
    "%cd ./keiba_prediction\n",
    "\n",
    "# ブランチ名がmainであること\n",
    "!git branch\n",
    "# 作業ブランチの作成\n",
    "!git branch [作業ブランチ名]\n",
    "# 作業ブランチにチェックアウト\n",
    "!git checkout [作業ブランチ名]\n",
    "# 作業ブランチにチェックアウトできていることを確認\n",
    "!git branch"
   ]
  },
  {
   "attachments": {},
   "cell_type": "markdown",
   "metadata": {},
   "source": [
    "#### 0-2. ソースコードのディレクトリに移動"
   ]
  },
  {
   "cell_type": "code",
   "execution_count": null,
   "metadata": {},
   "outputs": [],
   "source": [
    "%cd src/"
   ]
  },
  {
   "attachments": {},
   "cell_type": "markdown",
   "metadata": {},
   "source": [
    "#### 0-3. pythonのライブラリをインストール"
   ]
  },
  {
   "cell_type": "code",
   "execution_count": null,
   "metadata": {},
   "outputs": [],
   "source": [
    "pip install -r ../dockerfile/requirements.txt"
   ]
  },
  {
   "attachments": {},
   "cell_type": "markdown",
   "metadata": {},
   "source": [
    "### 1. importと変数の定義"
   ]
  },
  {
   "attachments": {},
   "cell_type": "markdown",
   "metadata": {},
   "source": [
    "#### 1-1. import"
   ]
  },
  {
   "cell_type": "code",
   "execution_count": 1,
   "metadata": {},
   "outputs": [
    {
     "name": "stderr",
     "output_type": "stream",
     "text": [
      "/home/keiba/.local/lib/python3.9/site-packages/tqdm/auto.py:22: TqdmWarning: IProgress not found. Please update jupyter and ipywidgets. See https://ipywidgets.readthedocs.io/en/stable/user_install.html\n",
      "  from .autonotebook import tqdm as notebook_tqdm\n"
     ]
    }
   ],
   "source": [
    "\"\"\"\n",
    "ライブラリ\n",
    "\"\"\"\n",
    "import pandas as pd\n",
    "\"\"\"\n",
    "モジュール(定数)\n",
    "\"\"\"\n",
    "# ローカルパス\n",
    "from modules.constants import LocalPaths\n",
    "# 学習データのパス\n",
    "from modules.constants import TrainDataPaths\n",
    "# データフレームの列名\n",
    "from modules.constants import DataFrameCols\n",
    "# レース名のマスター\n",
    "from modules.constants import RaceInfo\n",
    "\"\"\"\n",
    "モジュール(前処理)\n",
    "\"\"\"\n",
    "# データフレームの作成\n",
    "from modules.preprocess import create_dataframe\n",
    "# スクレイピング\n",
    "from modules.preprocess import scrapy_proc\n",
    "# データフレームの整形\n",
    "from modules.preprocess import dataframe_grades\n",
    "\"\"\"\n",
    "モジュール(モデルの学習)\n",
    "\"\"\"\n",
    "from modules.training import data_training"
   ]
  },
  {
   "attachments": {},
   "cell_type": "markdown",
   "metadata": {},
   "source": [
    "#### 1-2. インスタンスの初期化"
   ]
  },
  {
   "cell_type": "code",
   "execution_count": 2,
   "metadata": {},
   "outputs": [],
   "source": [
    "lps = LocalPaths()\n",
    "df_cols = DataFrameCols()\n",
    "race_info = RaceInfo()\n",
    "# スクレイピング用クラスのインスタンス化\n",
    "scrapy_proc = scrapy_proc(lps)\n",
    "# マスタ作成用クラスのインスタンス化\n",
    "create_dataframe = create_dataframe(lps, df_cols)\n",
    "# 学習データのパスクラスをインスタンス化\n",
    "#   モデルのタイプ\n",
    "#     multiclass_3\n",
    "#     multiclass_5\n",
    "#     binaryclass ※上手く動かせない・・・\n",
    "#   カテゴリ変数の処理方法を決める\n",
    "#     ラベルエンコーディング　：label\n",
    "#     ダミー変数化　　　　　　：dummies ※列が多くなりすぎるため廃止\n",
    "#     カウントエンコーディング：count  ※競馬予測に向いていない\n",
    "tdp = TrainDataPaths('multiclass_5','label')"
   ]
  },
  {
   "attachments": {},
   "cell_type": "markdown",
   "metadata": {},
   "source": [
    "### 2. スクレイピング\n",
    "1. スクレイピング対象のurlを取得  \n",
    "2. レース結果データを取得  \n",
    "3. 馬ごとの成績データを取得  \n",
    "  ※学習データとしては、まだ利用していない  \n",
    "4. 血統データを取得  \n",
    "  ※学習データとしては、まだ利用していない  "
   ]
  },
  {
   "attachments": {},
   "cell_type": "markdown",
   "metadata": {},
   "source": [
    "#### 2-1. スクレイピング対象のurl取得"
   ]
  },
  {
   "cell_type": "code",
   "execution_count": null,
   "metadata": {},
   "outputs": [],
   "source": [
    "# urlを取得する日付のレンジを指定\n",
    "df_gen_date = pd.date_range(start=\"20221201\",end=\"20221231\", freq=\"MS\")\n",
    "# フォーマットを変えてリストに格納\n",
    "df_date = df_gen_date.to_series().dt.strftime(\"%Y%m\")\n",
    "race_date_list = df_date.values\n",
    "\n",
    "# スクレイピング対象のurlをスクレイピング\n",
    "scrapy_proc.coll_urls(race_date_list)"
   ]
  },
  {
   "attachments": {},
   "cell_type": "markdown",
   "metadata": {},
   "source": [
    "#### 2-2. レース結果のパスリスト作成"
   ]
  },
  {
   "cell_type": "code",
   "execution_count": null,
   "metadata": {},
   "outputs": [],
   "source": [
    "# urlファイルのパスリストを定義\n",
    "scrapy_proc.create_path_list()"
   ]
  },
  {
   "attachments": {},
   "cell_type": "markdown",
   "metadata": {},
   "source": [
    "#### 2-3. レース結果の取得"
   ]
  },
  {
   "cell_type": "code",
   "execution_count": null,
   "metadata": {},
   "outputs": [],
   "source": [
    "# レース結果を取得する日付のレンジを指定\n",
    "df_gen_date = pd.date_range(start=\"20221201\",end=\"20221231\", freq=\"MS\")\n",
    "# フォーマットを変えてリストに格納\n",
    "df_date = df_gen_date.to_series().dt.strftime(\"%Y%m\")\n",
    "race_date_list = df_date.values\n",
    "\n",
    "# レース結果対象のurlパスリスト作成\n",
    "scrapy_proc.create_race_path_list(race_date_list)\n",
    "# レース結果のスクレイピング\n",
    "scrapy_proc.coll_grades()"
   ]
  },
  {
   "attachments": {},
   "cell_type": "markdown",
   "metadata": {},
   "source": [
    "#### 2-4. レース結果マスターの作成"
   ]
  },
  {
   "cell_type": "code",
   "execution_count": 3,
   "metadata": {},
   "outputs": [],
   "source": [
    "# レース結果を取得する日付のレンジを指定\n",
    "df_gen_date = pd.date_range(start=\"20140101\",end=\"20221231\", freq=\"MS\")\n",
    "# フォーマットを変えてリストに格納\n",
    "df_date = df_gen_date.to_series().dt.strftime(\"%Y%m\")\n",
    "race_date_list = df_date.values\n",
    "\n",
    "create_dataframe.create_master_grades(race_date_list)"
   ]
  },
  {
   "attachments": {},
   "cell_type": "markdown",
   "metadata": {},
   "source": [
    "#### 2-6. レース結果マスターの読み込み"
   ]
  },
  {
   "cell_type": "code",
   "execution_count": 4,
   "metadata": {},
   "outputs": [],
   "source": [
    "grades_master = pd.read_pickle(lps.DATA_GRADES_MASTER, compression='zip')"
   ]
  },
  {
   "attachments": {},
   "cell_type": "markdown",
   "metadata": {},
   "source": [
    "#### 2-7. 馬IDマスターの作成\n",
    "※現状学習データに含めるつもりはないので実施不要  \n",
    "　今後、学習データに含める場合にコードを修正"
   ]
  },
  {
   "cell_type": "code",
   "execution_count": 5,
   "metadata": {},
   "outputs": [],
   "source": [
    "create_dataframe.create_master_horseid(grades_master)"
   ]
  },
  {
   "attachments": {},
   "cell_type": "markdown",
   "metadata": {},
   "source": [
    "#### 2-8. 騎手IDマスターの作成"
   ]
  },
  {
   "cell_type": "code",
   "execution_count": 6,
   "metadata": {},
   "outputs": [],
   "source": [
    "create_dataframe.create_master_jockeyid(grades_master)"
   ]
  },
  {
   "attachments": {},
   "cell_type": "markdown",
   "metadata": {},
   "source": [
    "#### 2-9. 調教師IDマスターの作成"
   ]
  },
  {
   "cell_type": "code",
   "execution_count": 7,
   "metadata": {},
   "outputs": [],
   "source": [
    "create_dataframe.create_master_trainerid(grades_master)"
   ]
  },
  {
   "attachments": {},
   "cell_type": "markdown",
   "metadata": {},
   "source": [
    "#### 【未実装】2-10. 馬ごとのレース結果を取得\n",
    "※現状学習データに含めるつもりはないので実施不要  \n",
    "　今後、学習データに含める場合にコードを修正"
   ]
  },
  {
   "cell_type": "code",
   "execution_count": null,
   "metadata": {},
   "outputs": [],
   "source": [
    "horse_id_list = [\"2018104963\",\"2018105074\"]\n",
    "#horse_id_list = df_horse_id_master.values\n",
    "\n",
    "scrapy_proc.coll_horse_grades(horse_id_list)"
   ]
  },
  {
   "attachments": {},
   "cell_type": "markdown",
   "metadata": {},
   "source": [
    "#### 【未実装】2-11. 血統データを取得\n",
    "※現状学習データに含めるつもりはないので実施不要  \n",
    "　今後、学習データに含める場合にコードを修正"
   ]
  },
  {
   "cell_type": "code",
   "execution_count": null,
   "metadata": {},
   "outputs": [],
   "source": [
    "horse_id_list = [\"2018104963\",\"2018105074\"]\n",
    "#horse_id_list = df_horse_id_master.values\n",
    "\n",
    "scrapy_proc.coll_predigree(horse_id_list)"
   ]
  },
  {
   "attachments": {},
   "cell_type": "markdown",
   "metadata": {},
   "source": [
    "### 3. 前処理"
   ]
  },
  {
   "attachments": {},
   "cell_type": "markdown",
   "metadata": {},
   "source": [
    "#### 3-1. 前処理に必要なクラスのインスタンス化"
   ]
  },
  {
   "cell_type": "code",
   "execution_count": 8,
   "metadata": {},
   "outputs": [],
   "source": [
    "# レース結果マスタを読み込み\n",
    "grades_master = pd.read_pickle(lps.DATA_GRADES_MASTER, compression='zip')\n",
    "# データフレームの処理クラスのインスタンス化\n",
    "grades = dataframe_grades(grades_master, lps, tdp, df_cols, race_info)"
   ]
  },
  {
   "attachments": {},
   "cell_type": "markdown",
   "metadata": {},
   "source": [
    "#### 3-2. レース情報を分割し、下記列を追加\n",
    "- 距離\n",
    "- 回り\n",
    "- タイプ\n",
    "- 馬場状態"
   ]
  },
  {
   "cell_type": "code",
   "execution_count": 9,
   "metadata": {},
   "outputs": [],
   "source": [
    "grades.train_split_raceinfo()"
   ]
  },
  {
   "attachments": {},
   "cell_type": "markdown",
   "metadata": {},
   "source": [
    "#### ~~【不要】 G1・G2・G3レースに絞る~~\n",
    "学習データが減りすぎるため不採用"
   ]
  },
  {
   "cell_type": "code",
   "execution_count": null,
   "metadata": {},
   "outputs": [],
   "source": [
    "#grades.select_G_race()"
   ]
  },
  {
   "attachments": {},
   "cell_type": "markdown",
   "metadata": {},
   "source": [
    "#### 3-3. レース結果マスタのデータ整形"
   ]
  },
  {
   "cell_type": "code",
   "execution_count": 10,
   "metadata": {},
   "outputs": [
    {
     "name": "stderr",
     "output_type": "stream",
     "text": [
      "/home/keiba/src/modules/preprocess/_dataframe_shaping.py:91: SettingWithCopyWarning: \n",
      "A value is trying to be set on a copy of a slice from a DataFrame.\n",
      "Try using .loc[row_indexer,col_indexer] = value instead\n",
      "\n",
      "See the caveats in the documentation: https://pandas.pydata.org/pandas-docs/stable/user_guide/indexing.html#returning-a-view-versus-a-copy\n",
      "  self.grades_master[self.df_cols.WEIGHT_INC_DEC] = conv_weight_inc_dec_list\n",
      "/home/keiba/src/modules/preprocess/_dataframe_shaping.py:120: SettingWithCopyWarning: \n",
      "A value is trying to be set on a copy of a slice from a DataFrame.\n",
      "Try using .loc[row_indexer,col_indexer] = value instead\n",
      "\n",
      "See the caveats in the documentation: https://pandas.pydata.org/pandas-docs/stable/user_guide/indexing.html#returning-a-view-versus-a-copy\n",
      "  self.grades_master[self.df_cols.SEX] = sex\n",
      "/home/keiba/src/modules/preprocess/_dataframe_shaping.py:121: SettingWithCopyWarning: \n",
      "A value is trying to be set on a copy of a slice from a DataFrame.\n",
      "Try using .loc[row_indexer,col_indexer] = value instead\n",
      "\n",
      "See the caveats in the documentation: https://pandas.pydata.org/pandas-docs/stable/user_guide/indexing.html#returning-a-view-versus-a-copy\n",
      "  self.grades_master[self.df_cols.AGE] = age.astype(int)\n",
      "/home/keiba/src/modules/preprocess/_dataframe_shaping.py:130: SettingWithCopyWarning: \n",
      "A value is trying to be set on a copy of a slice from a DataFrame.\n",
      "Try using .loc[row_indexer,col_indexer] = value instead\n",
      "\n",
      "See the caveats in the documentation: https://pandas.pydata.org/pandas-docs/stable/user_guide/indexing.html#returning-a-view-versus-a-copy\n",
      "  self.grades_master[self.df_cols.PLACE] = place_id_list\n"
     ]
    }
   ],
   "source": [
    "# 競馬場名を指定\n",
    "# 例：中山\n",
    "place_name = None\n",
    "#place_name = '中山'\n",
    "\n",
    "# 欠損値の削除\n",
    "grades.remove_missing_values()\n",
    "# 体重増減の記号(+)を削除\n",
    "grades.conversion_values()\n",
    "# 性齢を性と齢で分割\n",
    "grades.split_sexual_age()\n",
    "# 競馬場指定(デフォルト指定なし)\n",
    "grades.select_place_name(place_name)\n",
    "# レースタイプを指定(デフォルト指定なし)\n",
    "# 芝・ダート・障\n",
    "# 引数はリスト\n",
    "race_type_list = ['芝','ダート']\n",
    "grades.select_race_type(race_type_list)\n",
    "# スクレイピングの不具合で周りに「障」が含まれているため、その削除\n",
    "#grades.tmp_del_shougai()\n",
    "# 整数型に型変換\n",
    "grades.conversion_int()"
   ]
  },
  {
   "attachments": {},
   "cell_type": "markdown",
   "metadata": {},
   "source": [
    "#### 3-4. レース結果マスタから目的変数用に着順を変更\n",
    "モデルのタイプ  \n",
    "- multiclass_3  \n",
    "  １着　：0  \n",
    "  ２着　：1  \n",
    "  ３着　：2  \n",
    "  その他：3  \n",
    "- multiclass_5  \n",
    "  １着　：0  \n",
    "  ２着　：1  \n",
    "  ３着　：2  \n",
    "  ４着　：3  \n",
    "  ５着　：4  \n",
    "  その他：5  \n",
    "- binaryclass ※上手く動かせない・・・  \n",
    "  １着　：0  \n",
    "  その他：1  "
   ]
  },
  {
   "cell_type": "code",
   "execution_count": 11,
   "metadata": {},
   "outputs": [],
   "source": [
    "grades.train_data_model_type()"
   ]
  },
  {
   "attachments": {},
   "cell_type": "markdown",
   "metadata": {},
   "source": [
    "#### 3-5. カテゴリ変数(馬名・騎手・調教師)の処理\n",
    "共通で処理するカテゴリ変数  \n",
    "- 回り\n",
    "- タイプ\n",
    "- 性"
   ]
  },
  {
   "cell_type": "code",
   "execution_count": 12,
   "metadata": {},
   "outputs": [],
   "source": [
    "grades.category_process()"
   ]
  },
  {
   "attachments": {},
   "cell_type": "markdown",
   "metadata": {},
   "source": [
    "#### 3-6. 学習データの前処理・保存\n",
    "【前処理】  \n",
    "1. アンダーサンプリング  \n",
    "2. ~~標準化~~  \n",
    "  ※決定木では不要なため実施しない  \n",
    "\n",
    "【保存】  \n",
    "- 説明変数  \n",
    "- 目的変数  \n",
    "- 学習データ  \n",
    "- 検証データ  \n",
    "- LightGBMのデータセット  "
   ]
  },
  {
   "cell_type": "code",
   "execution_count": 13,
   "metadata": {},
   "outputs": [],
   "source": [
    "grades.data_preprocess()"
   ]
  },
  {
   "attachments": {},
   "cell_type": "markdown",
   "metadata": {},
   "source": [
    "### 4. モデルの学習"
   ]
  },
  {
   "attachments": {},
   "cell_type": "markdown",
   "metadata": {},
   "source": [
    "#### 4-1. クラスのインスタンス化"
   ]
  },
  {
   "cell_type": "code",
   "execution_count": 14,
   "metadata": {},
   "outputs": [],
   "source": [
    "data_train = data_training(lps, tdp, df_cols)"
   ]
  },
  {
   "attachments": {},
   "cell_type": "markdown",
   "metadata": {},
   "source": [
    "#### 4-2. モデルの学習"
   ]
  },
  {
   "cell_type": "code",
   "execution_count": null,
   "metadata": {},
   "outputs": [],
   "source": [
    "data_train.train_lgb()"
   ]
  },
  {
   "attachments": {},
   "cell_type": "markdown",
   "metadata": {},
   "source": [
    "#### 4-3. モデルのパラメータを確認"
   ]
  },
  {
   "cell_type": "code",
   "execution_count": 15,
   "metadata": {},
   "outputs": [],
   "source": [
    "# パラメータをロード\n",
    "data_train.load_parameter()"
   ]
  },
  {
   "cell_type": "code",
   "execution_count": 16,
   "metadata": {},
   "outputs": [
    {
     "name": "stdout",
     "output_type": "stream",
     "text": [
      "                                  0\n",
      "task                          train\n",
      "boosting_type                  gbdt\n",
      "objective                multiclass\n",
      "num_class                         6\n",
      "metric                multi_logloss\n",
      "feature_pre_filter            False\n",
      "lambda_l1                  7.639527\n",
      "lambda_l2                  0.165218\n",
      "num_leaves                       32\n",
      "feature_fraction              0.416\n",
      "bagging_fraction                1.0\n",
      "bagging_freq                      0\n",
      "min_child_samples                20\n",
      "num_iterations                 1000\n",
      "early_stopping_round             10\n"
     ]
    }
   ],
   "source": [
    "# パラメータを確認\n",
    "data_train.show_parameter()"
   ]
  },
  {
   "cell_type": "code",
   "execution_count": 17,
   "metadata": {},
   "outputs": [
    {
     "name": "stdout",
     "output_type": "stream",
     "text": [
      "正解率(accuracy_score):0.27801254962223076\n",
      "再現率(recall_score):0.2780123634779272\n",
      "適合率(precision_score):0.2738244372147052\n",
      "F1値(f1_score):0.2608156711720397\n",
      "|            |   pred_1着 |   pred_2着 |   pred_3着 |   pred_4着 |   pred_5着 |   pred_その他 |\n",
      "|:-----------|-----------:|-----------:|-----------:|-----------:|-----------:|--------------:|\n",
      "| act_1着    |       4345 |       1015 |        697 |        758 |        797 |          1462 |\n",
      "| act_2着    |       2997 |       1745 |        716 |        857 |       1044 |          1730 |\n",
      "| act_3着    |       2544 |       1025 |       1331 |        919 |       1090 |          2222 |\n",
      "| act_4着    |       2306 |        981 |        764 |       1480 |       1112 |          2456 |\n",
      "| act_5着    |       1944 |        978 |        740 |        868 |       1871 |          2721 |\n",
      "| act_その他 |       1466 |        689 |        639 |        796 |       1133 |          4425 |\n"
     ]
    }
   ],
   "source": [
    "# 混合配列を確認\n",
    "data_train.show_mixed_array()"
   ]
  },
  {
   "cell_type": "code",
   "execution_count": 18,
   "metadata": {},
   "outputs": [
    {
     "name": "stdout",
     "output_type": "stream",
     "text": [
      "              precision    recall  f1-score   support\n",
      "\n",
      "          1着       0.28      0.48      0.35      9074\n",
      "          2着       0.27      0.19      0.22      9089\n",
      "          3着       0.27      0.15      0.19      9131\n",
      "          4着       0.26      0.16      0.20      9099\n",
      "          5着       0.27      0.21      0.23      9122\n",
      "         その他       0.29      0.48      0.37      9148\n",
      "\n",
      "    accuracy                           0.28     54663\n",
      "   macro avg       0.27      0.28      0.26     54663\n",
      "weighted avg       0.27      0.28      0.26     54663\n",
      "\n"
     ]
    }
   ],
   "source": [
    "# 分類レポートを確認\n",
    "data_train.show_report()"
   ]
  },
  {
   "attachments": {},
   "cell_type": "markdown",
   "metadata": {},
   "source": [
    "#### 4-4. 学習推移を確認"
   ]
  },
  {
   "cell_type": "code",
   "execution_count": 19,
   "metadata": {},
   "outputs": [
    {
     "data": {
      "image/png": "[encoded data removed]",
      "text/plain": [
       "<Figure size 640x480 with 1 Axes>"
      ]
     },
     "metadata": {},
     "output_type": "display_data"
    }
   ],
   "source": [
    "data_train.show_graph()"
   ]
  },
  {
   "cell_type": "code",
   "execution_count": 20,
   "metadata": {},
   "outputs": [
    {
     "name": "stdout",
     "output_type": "stream",
     "text": [
      "             importance\n",
      "調教師ID_LABEL        5527\n",
      "騎手ID_LABEL         5437\n",
      "馬ID_LABEL          5362\n",
      "馬体重                4534\n",
      "馬体重増減              3263\n",
      "距離                 2787\n",
      "斥量                 2393\n",
      "枠番                 2287\n",
      "齢                  1792\n",
      "回り_右                233\n",
      "回り_左                229\n",
      "タイプ_ダート             227\n",
      "性_牝                 205\n",
      "性_牡                 205\n",
      "性_セ                 103\n",
      "タイプ_芝                97\n",
      "回り_                  94\n"
     ]
    }
   ],
   "source": [
    "# 頻度とゲインを表示\n",
    "# 引数\n",
    "#  頻度：'split'\n",
    "#  ゲイン：'gain'\n",
    "data_train.show_feature_importance('split')"
   ]
  },
  {
   "cell_type": "code",
   "execution_count": 21,
   "metadata": {},
   "outputs": [
    {
     "name": "stdout",
     "output_type": "stream",
     "text": [
      "               importance\n",
      "騎手ID_LABEL   32082.064453\n",
      "馬ID_LABEL    29068.491126\n",
      "調教師ID_LABEL  14400.038810\n",
      "馬体重          11878.278802\n",
      "齢             7121.520241\n",
      "馬体重増減         6150.724345\n",
      "距離            6012.715430\n",
      "斥量            5921.569572\n",
      "枠番            4135.620593\n",
      "性_牝            822.149450\n",
      "性_牡            561.076414\n",
      "タイプ_ダート        506.273264\n",
      "回り_右           445.451576\n",
      "回り_左           387.274821\n",
      "回り_            329.687633\n",
      "タイプ_芝          226.327437\n",
      "性_セ            211.804578\n"
     ]
    }
   ],
   "source": [
    "# 頻度とゲインを表示\n",
    "# 引数\n",
    "#  頻度：'split'\n",
    "#  ゲイン：'gain'\n",
    "data_train.show_feature_importance('gain')"
   ]
  },
  {
   "attachments": {},
   "cell_type": "markdown",
   "metadata": {},
   "source": [
    "### 5. 予測"
   ]
  },
  {
   "attachments": {},
   "cell_type": "markdown",
   "metadata": {},
   "source": [
    "#### 5-1. 予測クラスのインスタンス化"
   ]
  },
  {
   "cell_type": "code",
   "execution_count": 22,
   "metadata": {},
   "outputs": [],
   "source": [
    "# 学習データのパスクラスをインスタンス化\n",
    "#   モデルのタイプ\n",
    "#     multiclass_3\n",
    "#     multiclass_5\n",
    "#     binaryclass\n",
    "#   カテゴリ変数の処理方法を決める\n",
    "#     ラベルエンコーディング　：pred_label\n",
    "#     ダミー変数化　　　　　　：pred_dummies\n",
    "#     カウントエンコーディング：pred_count\n",
    "pred_tdp = TrainDataPaths('multiclass_5','pred_label')"
   ]
  },
  {
   "attachments": {},
   "cell_type": "markdown",
   "metadata": {},
   "source": [
    "#### 5-2. 予測するレースurlをセット\n",
    "既に着順が出ているレースはエラーになる"
   ]
  },
  {
   "cell_type": "code",
   "execution_count": null,
   "metadata": {},
   "outputs": [],
   "source": [
    "pred_url = 'https://race.netkeiba.com/race/shutuba.html?race_id=202206050811&rf=race_list'"
   ]
  },
  {
   "attachments": {},
   "cell_type": "markdown",
   "metadata": {},
   "source": [
    "#### 5-3. 予測レースのスクレイピング"
   ]
  },
  {
   "cell_type": "code",
   "execution_count": null,
   "metadata": {},
   "outputs": [],
   "source": [
    "scrapy_proc.coll_pred_grades(pred_url)"
   ]
  },
  {
   "attachments": {},
   "cell_type": "markdown",
   "metadata": {},
   "source": [
    "#### 5-4. 前処理に必要なクラスのインスタンス化"
   ]
  },
  {
   "cell_type": "code",
   "execution_count": 23,
   "metadata": {},
   "outputs": [],
   "source": [
    "# レース結果マスタを読み込み\n",
    "pred_keiba = pd.read_pickle(lps.DATA_TMP_PRED)\n",
    "# データフレームの処理クラスのインスタンス化\n",
    "predict = dataframe_grades(pred_keiba, lps, pred_tdp, df_cols, race_info)"
   ]
  },
  {
   "attachments": {},
   "cell_type": "markdown",
   "metadata": {},
   "source": [
    "#### 5-5. レース情報を分割し、下記列を追加\n",
    "- 距離\n",
    "- 回り\n",
    "- タイプ\n",
    "- 馬場状態"
   ]
  },
  {
   "cell_type": "code",
   "execution_count": 24,
   "metadata": {},
   "outputs": [],
   "source": [
    "predict.pred_split_raceinfo()"
   ]
  },
  {
   "attachments": {},
   "cell_type": "markdown",
   "metadata": {},
   "source": [
    "#### 5-6. 予測レース結果を整形"
   ]
  },
  {
   "cell_type": "code",
   "execution_count": 25,
   "metadata": {},
   "outputs": [],
   "source": [
    "# 競馬場名を指定\n",
    "# 例：中山\n",
    "place_name = None\n",
    "\n",
    "# 体重増減の記号(+)を削除\n",
    "predict.pred_conversion_values()\n",
    "# 性齢を性と齢で分割\n",
    "predict.split_sexual_age()\n",
    "# 競馬場指定(デフォルト指定なし)\n",
    "predict.select_place_name(place_name)\n",
    "# レースタイプを指定(デフォルト指定なし)\n",
    "# 芝・ダート・障\n",
    "# 引数はリスト\n",
    "race_type_list = ['芝','ダート']\n",
    "predict.select_race_type(race_type_list)\n",
    "# 空白列を0で埋める\n",
    "predict.blank_conversion()\n",
    "#grades.tmp_del_shougai()\n",
    "# 整数型に型変換\n",
    "predict.pred_conversion_int()"
   ]
  },
  {
   "attachments": {},
   "cell_type": "markdown",
   "metadata": {},
   "source": [
    "#### 5-7. カテゴリ変数(馬名・騎手・調教師)の処理\n",
    "共通で処理するカテゴリ変数  \n",
    "- 回り\n",
    "- タイプ\n",
    "- 性"
   ]
  },
  {
   "cell_type": "code",
   "execution_count": 26,
   "metadata": {},
   "outputs": [],
   "source": [
    "predict.category_process()"
   ]
  },
  {
   "attachments": {},
   "cell_type": "markdown",
   "metadata": {},
   "source": [
    "#### 5-8. 学習データのダミー変数化した列をマージ"
   ]
  },
  {
   "cell_type": "code",
   "execution_count": 27,
   "metadata": {},
   "outputs": [],
   "source": [
    "predict.pred_merge_dummies()"
   ]
  },
  {
   "attachments": {},
   "cell_type": "markdown",
   "metadata": {},
   "source": [
    "#### 5-9. 予測データに空白列が含まれることがあるので削除"
   ]
  },
  {
   "cell_type": "code",
   "execution_count": 28,
   "metadata": {},
   "outputs": [],
   "source": [
    "predict.blank_conversion()"
   ]
  },
  {
   "attachments": {},
   "cell_type": "markdown",
   "metadata": {},
   "source": [
    "#### 5-10. 予測データを読み込み"
   ]
  },
  {
   "cell_type": "code",
   "execution_count": 29,
   "metadata": {},
   "outputs": [],
   "source": [
    "pred_data = predict.grades_master"
   ]
  },
  {
   "attachments": {},
   "cell_type": "markdown",
   "metadata": {},
   "source": [
    "### 【確認用】予測データのデータ型を確認"
   ]
  },
  {
   "cell_type": "code",
   "execution_count": null,
   "metadata": {},
   "outputs": [],
   "source": [
    "predict.show_grades_master()"
   ]
  },
  {
   "attachments": {},
   "cell_type": "markdown",
   "metadata": {},
   "source": [
    "#### 【確認用】予測データをcsv出力"
   ]
  },
  {
   "cell_type": "code",
   "execution_count": null,
   "metadata": {},
   "outputs": [],
   "source": [
    "predict.grades_master.to_csv('/home/keiba/src/data/tmp/pred_race_grades.csv')"
   ]
  },
  {
   "attachments": {},
   "cell_type": "markdown",
   "metadata": {},
   "source": [
    "#### 5-11. モデル用クラスをインスタンス化"
   ]
  },
  {
   "cell_type": "code",
   "execution_count": 30,
   "metadata": {},
   "outputs": [],
   "source": [
    "data_pred = data_training(lps, pred_tdp, df_cols)"
   ]
  },
  {
   "attachments": {},
   "cell_type": "markdown",
   "metadata": {},
   "source": [
    "#### 5-12. 予測結果を表示・json出力"
   ]
  },
  {
   "cell_type": "code",
   "execution_count": 31,
   "metadata": {},
   "outputs": [
    {
     "name": "stdout",
     "output_type": "stream",
     "text": [
      "                 1着        2着        3着        4着        5着       その他\n",
      "アカイイト      0.174368  0.171681  0.148168  0.205522  0.175565  0.124695\n",
      "イズジョーノキセキ  0.182466  0.175309  0.227987  0.145998  0.190586  0.077654\n",
      "ボルドグフーシュ   0.270771  0.225822  0.189437  0.151230  0.125341  0.037399\n",
      "アリストテレス    0.200753  0.196165  0.186654  0.172461  0.165725  0.078241\n",
      "ジェラルディーナ   0.274812  0.189154  0.175488  0.154312  0.138375  0.067860\n",
      "ヴェラアズール    0.193936  0.228516  0.207213  0.145880  0.153493  0.070962\n",
      "エフフォーリア    0.207803  0.174681  0.228269  0.174366  0.126097  0.088784\n",
      "ウインマイティー   0.155973  0.195849  0.203559  0.148956  0.178756  0.116907\n",
      "イクイノックス    0.420085  0.225839  0.139012  0.098691  0.093557  0.022816\n",
      "ジャスティンパレス  0.203915  0.167029  0.220869  0.155079  0.161559  0.091549\n",
      "ラストドラフト    0.113047  0.169610  0.155236  0.180310  0.257328  0.124469\n",
      "ポタジェ       0.170087  0.202525  0.196733  0.170565  0.181122  0.078968\n",
      "タイトルホルダー   0.215751  0.175884  0.166481  0.168727  0.177420  0.095736\n",
      "ボッケリーニ     0.143840  0.205554  0.206422  0.176686  0.156744  0.110754\n",
      "ブレークアップ    0.216583  0.212526  0.228018  0.125447  0.154689  0.062737\n",
      "ディープボンド    0.301033  0.235829  0.174859  0.138516  0.108992  0.040771\n"
     ]
    }
   ],
   "source": [
    "data_pred.model_predict_detail(pred_data)"
   ]
  }
 ],
 "metadata": {
  "kernelspec": {
   "display_name": "Python 3.9.14 64-bit",
   "language": "python",
   "name": "python3"
  },
  "language_info": {
   "codemirror_mode": {
    "name": "ipython",
    "version": 3
   },
   "file_extension": ".py",
   "mimetype": "text/x-python",
   "name": "python",
   "nbconvert_exporter": "python",
   "pygments_lexer": "ipython3",
   "version": "3.9.16"
  },
  "orig_nbformat": 4,
  "vscode": {
   "interpreter": {
    "hash": "949777d72b0d2535278d3dc13498b2535136f6dfe0678499012e853ee9abcab1"
   }
  }
 },
 "nbformat": 4,
 "nbformat_minor": 2
}
