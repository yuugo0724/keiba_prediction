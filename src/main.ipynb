{
 "cells": [
  {
   "attachments": {},
   "cell_type": "markdown",
   "metadata": {},
   "source": [
    "# 競馬予測_スクレイピング"
   ]
  },
  {
   "attachments": {},
   "cell_type": "markdown",
   "metadata": {},
   "source": [
    "### 0. colabの環境を整える"
   ]
  },
  {
   "attachments": {},
   "cell_type": "markdown",
   "metadata": {},
   "source": [
    "#### 0-1. git clone"
   ]
  },
  {
   "cell_type": "code",
   "execution_count": null,
   "metadata": {},
   "outputs": [],
   "source": [
    "!git clone https://github.com/yuugo0724/keiba_prediction.git"
   ]
  },
  {
   "attachments": {},
   "cell_type": "markdown",
   "metadata": {},
   "source": [
    "#### 0-2. 作業ブランチの作成"
   ]
  },
  {
   "cell_type": "code",
   "execution_count": null,
   "metadata": {},
   "outputs": [],
   "source": [
    "# cloneしたディレクトリに移動\n",
    "%cd ./keiba_prediction\n",
    "\n",
    "# ブランチ名がmainであること\n",
    "!git branch\n",
    "# 作業ブランチの作成\n",
    "!git branch [作業ブランチ名]\n",
    "# 作業ブランチにチェックアウト\n",
    "!git checkout [作業ブランチ名]\n",
    "# 作業ブランチにチェックアウトできていることを確認\n",
    "!git branch"
   ]
  },
  {
   "attachments": {},
   "cell_type": "markdown",
   "metadata": {},
   "source": [
    "#### 0-2. ソースコードのディレクトリに移動"
   ]
  },
  {
   "cell_type": "code",
   "execution_count": null,
   "metadata": {},
   "outputs": [],
   "source": [
    "%cd src/"
   ]
  },
  {
   "attachments": {},
   "cell_type": "markdown",
   "metadata": {},
   "source": [
    "#### 0-3. pythonのライブラリをインストール"
   ]
  },
  {
   "cell_type": "code",
   "execution_count": null,
   "metadata": {},
   "outputs": [],
   "source": [
    "pip install -r ../dockerfile/requirements.txt"
   ]
  },
  {
   "attachments": {},
   "cell_type": "markdown",
   "metadata": {},
   "source": [
    "### 1. importと変数の定義"
   ]
  },
  {
   "attachments": {},
   "cell_type": "markdown",
   "metadata": {},
   "source": [
    "#### 1-1. import"
   ]
  },
  {
   "cell_type": "code",
   "execution_count": null,
   "metadata": {},
   "outputs": [],
   "source": [
    "\"\"\"\n",
    "ライブラリ\n",
    "\"\"\"\n",
    "import pandas as pd\n",
    "\"\"\"\n",
    "モジュール(定数)\n",
    "\"\"\"\n",
    "# ローカルパス\n",
    "from modules.constants import LocalPaths\n",
    "# 学習データのパス\n",
    "from modules.constants import TrainDataPaths\n",
    "# データフレームの列名\n",
    "from modules.constants import DataFrameCols\n",
    "# レース名のマスター\n",
    "from modules.constants import RaceInfo\n",
    "\"\"\"\n",
    "モジュール(前処理)\n",
    "\"\"\"\n",
    "# データフレームの作成\n",
    "from modules.preprocess import create_dataframe\n",
    "# スクレイピング\n",
    "from modules.preprocess import scrapy_proc\n",
    "# データフレームの整形\n",
    "from modules.preprocess import dataframe_grades\n",
    "\"\"\"\n",
    "モジュール(モデルの学習)\n",
    "\"\"\"\n",
    "from modules.training import data_training"
   ]
  },
  {
   "attachments": {},
   "cell_type": "markdown",
   "metadata": {},
   "source": [
    "#### 1-2. インスタンスの初期化"
   ]
  },
  {
   "cell_type": "code",
   "execution_count": null,
   "metadata": {},
   "outputs": [],
   "source": [
    "lps = LocalPaths()\n",
    "df_cols = DataFrameCols()\n",
    "race_info = RaceInfo()\n",
    "# スクレイピング用クラスのインスタンス化\n",
    "scrapy_proc = scrapy_proc(lps)\n",
    "# マスタ作成用クラスのインスタンス化\n",
    "create_dataframe = create_dataframe(lps, df_cols)\n",
    "# 学習データのパスクラスをインスタンス化\n",
    "#   モデルのタイプ\n",
    "#     multiclass_3\n",
    "#     multiclass_5\n",
    "#     binaryclass ※上手く動かせない・・・\n",
    "#   カテゴリ変数の処理方法を決める\n",
    "#     ラベルエンコーディング　：label\n",
    "#     ダミー変数化　　　　　　：dummies ※列が多くなりすぎるため廃止\n",
    "#     カウントエンコーディング：count  ※競馬予測に向いていない\n",
    "tdp = TrainDataPaths('multiclass_5','label')"
   ]
  },
  {
   "attachments": {},
   "cell_type": "markdown",
   "metadata": {},
   "source": [
    "### 2. スクレイピング\n",
    "1. スクレイピング対象のurlを取得  \n",
    "2. レース結果データを取得  \n",
    "3. 馬ごとの成績データを取得  \n",
    "  ※学習データとしては、まだ利用していない  \n",
    "4. 血統データを取得  \n",
    "  ※学習データとしては、まだ利用していない  "
   ]
  },
  {
   "attachments": {},
   "cell_type": "markdown",
   "metadata": {},
   "source": [
    "#### 2-1. スクレイピング対象のurl取得"
   ]
  },
  {
   "cell_type": "code",
   "execution_count": null,
   "metadata": {},
   "outputs": [],
   "source": [
    "# urlを取得する日付のレンジを指定\n",
    "df_gen_date = pd.date_range(start=\"20221201\",end=\"20221231\", freq=\"MS\")\n",
    "# フォーマットを変えてリストに格納\n",
    "df_date = df_gen_date.to_series().dt.strftime(\"%Y%m\")\n",
    "race_date_list = df_date.values\n",
    "\n",
    "# スクレイピング対象のurlをスクレイピング\n",
    "scrapy_proc.coll_urls(race_date_list)"
   ]
  },
  {
   "attachments": {},
   "cell_type": "markdown",
   "metadata": {},
   "source": [
    "#### 2-2. レース結果のパスリスト作成"
   ]
  },
  {
   "cell_type": "code",
   "execution_count": null,
   "metadata": {},
   "outputs": [],
   "source": [
    "# urlファイルのパスリストを定義\n",
    "scrapy_proc.create_path_list()"
   ]
  },
  {
   "attachments": {},
   "cell_type": "markdown",
   "metadata": {},
   "source": [
    "#### 2-3. レース結果の取得"
   ]
  },
  {
   "cell_type": "code",
   "execution_count": null,
   "metadata": {},
   "outputs": [],
   "source": [
    "# レース結果を取得する日付のレンジを指定\n",
    "df_gen_date = pd.date_range(start=\"20221201\",end=\"20221231\", freq=\"MS\")\n",
    "# フォーマットを変えてリストに格納\n",
    "df_date = df_gen_date.to_series().dt.strftime(\"%Y%m\")\n",
    "race_date_list = df_date.values\n",
    "\n",
    "# レース結果対象のurlパスリスト作成\n",
    "scrapy_proc.create_race_path_list(race_date_list)\n",
    "# レース結果のスクレイピング\n",
    "scrapy_proc.coll_grades()"
   ]
  },
  {
   "attachments": {},
   "cell_type": "markdown",
   "metadata": {},
   "source": [
    "#### 2-4. レース結果マスターの作成"
   ]
  },
  {
   "cell_type": "code",
   "execution_count": null,
   "metadata": {},
   "outputs": [],
   "source": [
    "# レース結果を取得する日付のレンジを指定\n",
    "df_gen_date = pd.date_range(start=\"20140101\",end=\"20221231\", freq=\"MS\")\n",
    "# フォーマットを変えてリストに格納\n",
    "df_date = df_gen_date.to_series().dt.strftime(\"%Y%m\")\n",
    "race_date_list = df_date.values\n",
    "\n",
    "create_dataframe.create_master_grades(race_date_list)"
   ]
  },
  {
   "attachments": {},
   "cell_type": "markdown",
   "metadata": {},
   "source": [
    "#### 2-6. レース結果マスターの読み込み"
   ]
  },
  {
   "cell_type": "code",
   "execution_count": null,
   "metadata": {},
   "outputs": [],
   "source": [
    "grades_master = pd.read_pickle(lps.DATA_GRADES_MASTER)"
   ]
  },
  {
   "attachments": {},
   "cell_type": "markdown",
   "metadata": {},
   "source": [
    "#### 2-7. 馬IDマスターの作成\n",
    "※現状学習データに含めるつもりはないので実施不要  \n",
    "　今後、学習データに含める場合にコードを修正"
   ]
  },
  {
   "cell_type": "code",
   "execution_count": null,
   "metadata": {},
   "outputs": [],
   "source": [
    "create_dataframe.create_master_horseid(grades_master)"
   ]
  },
  {
   "attachments": {},
   "cell_type": "markdown",
   "metadata": {},
   "source": [
    "#### 2-8. 騎手IDマスターの作成"
   ]
  },
  {
   "cell_type": "code",
   "execution_count": null,
   "metadata": {},
   "outputs": [],
   "source": [
    "create_dataframe.create_master_jockeyid(grades_master)"
   ]
  },
  {
   "attachments": {},
   "cell_type": "markdown",
   "metadata": {},
   "source": [
    "#### 2-9. 調教師IDマスターの作成"
   ]
  },
  {
   "cell_type": "code",
   "execution_count": null,
   "metadata": {},
   "outputs": [],
   "source": [
    "create_dataframe.create_master_trainerid(grades_master)"
   ]
  },
  {
   "attachments": {},
   "cell_type": "markdown",
   "metadata": {},
   "source": [
    "#### 【未実装】2-10. 馬ごとのレース結果を取得\n",
    "※現状学習データに含めるつもりはないので実施不要  \n",
    "　今後、学習データに含める場合にコードを修正"
   ]
  },
  {
   "cell_type": "code",
   "execution_count": null,
   "metadata": {},
   "outputs": [],
   "source": [
    "horse_id_list = [\"2018104963\",\"2018105074\"]\n",
    "#horse_id_list = df_horse_id_master.values\n",
    "\n",
    "scrapy_proc.coll_horse_grades(horse_id_list)"
   ]
  },
  {
   "attachments": {},
   "cell_type": "markdown",
   "metadata": {},
   "source": [
    "#### 【未実装】2-11. 血統データを取得\n",
    "※現状学習データに含めるつもりはないので実施不要  \n",
    "　今後、学習データに含める場合にコードを修正"
   ]
  },
  {
   "cell_type": "code",
   "execution_count": null,
   "metadata": {},
   "outputs": [],
   "source": [
    "horse_id_list = [\"2018104963\",\"2018105074\"]\n",
    "#horse_id_list = df_horse_id_master.values\n",
    "\n",
    "scrapy_proc.coll_predigree(horse_id_list)"
   ]
  },
  {
   "attachments": {},
   "cell_type": "markdown",
   "metadata": {},
   "source": [
    "### 3. 前処理"
   ]
  },
  {
   "attachments": {},
   "cell_type": "markdown",
   "metadata": {},
   "source": [
    "#### 3-1. 前処理に必要なクラスのインスタンス化"
   ]
  },
  {
   "cell_type": "code",
   "execution_count": null,
   "metadata": {},
   "outputs": [],
   "source": [
    "# レース結果マスタを読み込み\n",
    "grades_master = pd.read_pickle(lps.DATA_GRADES_MASTER)\n",
    "# データフレームの処理クラスのインスタンス化\n",
    "grades = dataframe_grades(grades_master, lps, tdp, df_cols, race_info)"
   ]
  },
  {
   "attachments": {},
   "cell_type": "markdown",
   "metadata": {},
   "source": [
    "#### 3-2. レース情報を分割し、下記列を追加\n",
    "- 距離\n",
    "- 回り\n",
    "- タイプ\n",
    "- 馬場状態"
   ]
  },
  {
   "cell_type": "code",
   "execution_count": null,
   "metadata": {},
   "outputs": [],
   "source": [
    "grades.train_split_raceinfo()"
   ]
  },
  {
   "attachments": {},
   "cell_type": "markdown",
   "metadata": {},
   "source": [
    "#### ~~【不要】 G1・G2・G3レースに絞る~~\n",
    "学習データが減りすぎるため不採用"
   ]
  },
  {
   "cell_type": "code",
   "execution_count": null,
   "metadata": {},
   "outputs": [],
   "source": [
    "#grades.select_G_race()"
   ]
  },
  {
   "attachments": {},
   "cell_type": "markdown",
   "metadata": {},
   "source": [
    "#### 3-3. レース結果マスタのデータ整形"
   ]
  },
  {
   "cell_type": "code",
   "execution_count": null,
   "metadata": {},
   "outputs": [],
   "source": [
    "# 競馬場名を指定\n",
    "# 例：中山\n",
    "place_name = None\n",
    "#place_name = '中山'\n",
    "\n",
    "# 欠損値の削除\n",
    "grades.remove_missing_values()\n",
    "# 体重増減の記号(+)を削除\n",
    "grades.conversion_values()\n",
    "# 性齢を性と齢で分割\n",
    "grades.split_sexual_age()\n",
    "# 競馬場指定(デフォルト指定なし)\n",
    "grades.select_place_name(place_name)\n",
    "# レースタイプを指定(デフォルト指定なし)\n",
    "# 芝・ダート・障\n",
    "# 引数はリスト\n",
    "race_type_list = ['芝','ダート']\n",
    "grades.select_race_type(race_type_list)\n",
    "# スクレイピングの不具合で周りに「障」が含まれているため、その削除\n",
    "#grades.tmp_del_shougai()\n",
    "# 整数型に型変換\n",
    "grades.conversion_int()"
   ]
  },
  {
   "attachments": {},
   "cell_type": "markdown",
   "metadata": {},
   "source": [
    "#### 3-4. レース結果マスタから目的変数用に着順を変更\n",
    "モデルのタイプ  \n",
    "- multiclass_3  \n",
    "  １着　：0  \n",
    "  ２着　：1  \n",
    "  ３着　：2  \n",
    "  その他：3  \n",
    "- multiclass_5  \n",
    "  １着　：0  \n",
    "  ２着　：1  \n",
    "  ３着　：2  \n",
    "  ４着　：3  \n",
    "  ５着　：4  \n",
    "  その他：5  \n",
    "- binaryclass ※上手く動かせない・・・  \n",
    "  １着　：0  \n",
    "  その他：1  "
   ]
  },
  {
   "cell_type": "code",
   "execution_count": null,
   "metadata": {},
   "outputs": [],
   "source": [
    "grades.train_data_model_type()"
   ]
  },
  {
   "attachments": {},
   "cell_type": "markdown",
   "metadata": {},
   "source": [
    "#### 3-5. カテゴリ変数(馬名・騎手・調教師)の処理\n",
    "共通で処理するカテゴリ変数  \n",
    "- 回り\n",
    "- タイプ\n",
    "- 性"
   ]
  },
  {
   "cell_type": "code",
   "execution_count": null,
   "metadata": {},
   "outputs": [],
   "source": [
    "grades.category_process()"
   ]
  },
  {
   "attachments": {},
   "cell_type": "markdown",
   "metadata": {},
   "source": [
    "#### 3-6. 学習データの前処理・保存\n",
    "【前処理】  \n",
    "1. アンダーサンプリング  \n",
    "2. ~~標準化~~  \n",
    "  ※決定木では不要なため実施しない  \n",
    "\n",
    "【保存】  \n",
    "- 説明変数  \n",
    "- 目的変数  \n",
    "- 学習データ  \n",
    "- 検証データ  \n",
    "- LightGBMのデータセット  "
   ]
  },
  {
   "cell_type": "code",
   "execution_count": null,
   "metadata": {},
   "outputs": [],
   "source": [
    "grades.data_preprocess()"
   ]
  },
  {
   "attachments": {},
   "cell_type": "markdown",
   "metadata": {},
   "source": [
    "### 4. モデルの学習"
   ]
  },
  {
   "attachments": {},
   "cell_type": "markdown",
   "metadata": {},
   "source": [
    "#### 4-1. クラスのインスタンス化"
   ]
  },
  {
   "cell_type": "code",
   "execution_count": null,
   "metadata": {},
   "outputs": [],
   "source": [
    "data_train = data_training(lps, tdp, df_cols)"
   ]
  },
  {
   "attachments": {},
   "cell_type": "markdown",
   "metadata": {},
   "source": [
    "#### 4-2. モデルの学習"
   ]
  },
  {
   "cell_type": "code",
   "execution_count": null,
   "metadata": {},
   "outputs": [],
   "source": [
    "data_train.train_lgb()"
   ]
  },
  {
   "attachments": {},
   "cell_type": "markdown",
   "metadata": {},
   "source": [
    "#### 4-3. モデルのパラメータを確認"
   ]
  },
  {
   "cell_type": "code",
   "execution_count": null,
   "metadata": {},
   "outputs": [],
   "source": [
    "# パラメータをロード\n",
    "data_train.load_parameter()"
   ]
  },
  {
   "cell_type": "code",
   "execution_count": null,
   "metadata": {},
   "outputs": [],
   "source": [
    "# パラメータを確認\n",
    "data_train.show_parameter()"
   ]
  },
  {
   "cell_type": "code",
   "execution_count": null,
   "metadata": {},
   "outputs": [],
   "source": [
    "# 混合配列を確認\n",
    "data_train.show_mixed_array()"
   ]
  },
  {
   "cell_type": "code",
   "execution_count": null,
   "metadata": {},
   "outputs": [],
   "source": [
    "# 分類レポートを確認\n",
    "data_train.show_report()"
   ]
  },
  {
   "attachments": {},
   "cell_type": "markdown",
   "metadata": {},
   "source": [
    "#### 4-4. 学習推移を確認"
   ]
  },
  {
   "cell_type": "code",
   "execution_count": null,
   "metadata": {},
   "outputs": [],
   "source": [
    "data_train.show_graph()"
   ]
  },
  {
   "cell_type": "code",
   "execution_count": null,
   "metadata": {},
   "outputs": [],
   "source": [
    "# 頻度とゲインを表示\n",
    "# 引数\n",
    "#  頻度：'split'\n",
    "#  ゲイン：'gain'\n",
    "data_train.show_feature_importance('split')"
   ]
  },
  {
   "cell_type": "code",
   "execution_count": null,
   "metadata": {},
   "outputs": [],
   "source": [
    "# 頻度とゲインを表示\n",
    "# 引数\n",
    "#  頻度：'split'\n",
    "#  ゲイン：'gain'\n",
    "data_train.show_feature_importance('gain')"
   ]
  },
  {
   "attachments": {},
   "cell_type": "markdown",
   "metadata": {},
   "source": [
    "### 5. 予測"
   ]
  },
  {
   "attachments": {},
   "cell_type": "markdown",
   "metadata": {},
   "source": [
    "#### 5-1. 予測クラスのインスタンス化"
   ]
  },
  {
   "cell_type": "code",
   "execution_count": null,
   "metadata": {},
   "outputs": [],
   "source": [
    "# 学習データのパスクラスをインスタンス化\n",
    "#   モデルのタイプ\n",
    "#     multiclass_3\n",
    "#     multiclass_5\n",
    "#     binaryclass\n",
    "#   カテゴリ変数の処理方法を決める\n",
    "#     ラベルエンコーディング　：pred_label\n",
    "#     ダミー変数化　　　　　　：pred_dummies\n",
    "#     カウントエンコーディング：pred_count\n",
    "pred_tdp = TrainDataPaths('multiclass_5','pred_label')"
   ]
  },
  {
   "attachments": {},
   "cell_type": "markdown",
   "metadata": {},
   "source": [
    "#### 5-2. 予測するレースurlをセット\n",
    "既に着順が出ているレースはエラーになる"
   ]
  },
  {
   "cell_type": "code",
   "execution_count": null,
   "metadata": {},
   "outputs": [],
   "source": [
    "pred_url = 'https://race.netkeiba.com/race/shutuba.html?race_id=202206050811&rf=race_list'"
   ]
  },
  {
   "attachments": {},
   "cell_type": "markdown",
   "metadata": {},
   "source": [
    "#### 5-3. 予測レースのスクレイピング"
   ]
  },
  {
   "cell_type": "code",
   "execution_count": null,
   "metadata": {},
   "outputs": [],
   "source": [
    "scrapy_proc.coll_pred_grades(pred_url)"
   ]
  },
  {
   "attachments": {},
   "cell_type": "markdown",
   "metadata": {},
   "source": [
    "#### 5-4. 前処理に必要なクラスのインスタンス化"
   ]
  },
  {
   "cell_type": "code",
   "execution_count": null,
   "metadata": {},
   "outputs": [],
   "source": [
    "# レース結果マスタを読み込み\n",
    "pred_keiba = pd.read_pickle(lps.DATA_TMP_PRED)\n",
    "# データフレームの処理クラスのインスタンス化\n",
    "predict = dataframe_grades(pred_keiba, lps, pred_tdp, df_cols, race_info)"
   ]
  },
  {
   "attachments": {},
   "cell_type": "markdown",
   "metadata": {},
   "source": [
    "#### 5-5. レース情報を分割し、下記列を追加\n",
    "- 距離\n",
    "- 回り\n",
    "- タイプ\n",
    "- 馬場状態"
   ]
  },
  {
   "cell_type": "code",
   "execution_count": null,
   "metadata": {},
   "outputs": [],
   "source": [
    "predict.pred_split_raceinfo()"
   ]
  },
  {
   "attachments": {},
   "cell_type": "markdown",
   "metadata": {},
   "source": [
    "#### 5-6. 予測レース結果を整形"
   ]
  },
  {
   "cell_type": "code",
   "execution_count": null,
   "metadata": {},
   "outputs": [],
   "source": [
    "# 競馬場名を指定\n",
    "# 例：中山\n",
    "place_name = None\n",
    "\n",
    "# 体重増減の記号(+)を削除\n",
    "predict.pred_conversion_values()\n",
    "# 性齢を性と齢で分割\n",
    "predict.split_sexual_age()\n",
    "# 競馬場指定(デフォルト指定なし)\n",
    "predict.select_place_name(place_name)\n",
    "# レースタイプを指定(デフォルト指定なし)\n",
    "# 芝・ダート・障\n",
    "# 引数はリスト\n",
    "race_type_list = ['芝','ダート']\n",
    "predict.select_race_type(race_type_list)\n",
    "# 空白列を0で埋める\n",
    "predict.blank_conversion()\n",
    "#grades.tmp_del_shougai()\n",
    "# 整数型に型変換\n",
    "predict.pred_conversion_int()"
   ]
  },
  {
   "attachments": {},
   "cell_type": "markdown",
   "metadata": {},
   "source": [
    "#### 5-7. カテゴリ変数(馬名・騎手・調教師)の処理\n",
    "共通で処理するカテゴリ変数  \n",
    "- 回り\n",
    "- タイプ\n",
    "- 性"
   ]
  },
  {
   "cell_type": "code",
   "execution_count": null,
   "metadata": {},
   "outputs": [],
   "source": [
    "predict.category_process()"
   ]
  },
  {
   "attachments": {},
   "cell_type": "markdown",
   "metadata": {},
   "source": [
    "#### 5-8. 学習データのダミー変数化した列をマージ"
   ]
  },
  {
   "cell_type": "code",
   "execution_count": null,
   "metadata": {},
   "outputs": [],
   "source": [
    "predict.pred_merge_dummies()"
   ]
  },
  {
   "attachments": {},
   "cell_type": "markdown",
   "metadata": {},
   "source": [
    "#### 5-9. 予測データに空白列が含まれることがあるので削除"
   ]
  },
  {
   "cell_type": "code",
   "execution_count": null,
   "metadata": {},
   "outputs": [],
   "source": [
    "predict.blank_conversion()"
   ]
  },
  {
   "attachments": {},
   "cell_type": "markdown",
   "metadata": {},
   "source": [
    "#### 5-10. 予測データを読み込み"
   ]
  },
  {
   "cell_type": "code",
   "execution_count": null,
   "metadata": {},
   "outputs": [],
   "source": [
    "pred_data = predict.grades_master"
   ]
  },
  {
   "attachments": {},
   "cell_type": "markdown",
   "metadata": {},
   "source": [
    "### 【確認用】予測データのデータ型を確認"
   ]
  },
  {
   "cell_type": "code",
   "execution_count": null,
   "metadata": {},
   "outputs": [],
   "source": [
    "predict.show_grades_master()"
   ]
  },
  {
   "attachments": {},
   "cell_type": "markdown",
   "metadata": {},
   "source": [
    "#### 【確認用】予測データをcsv出力"
   ]
  },
  {
   "cell_type": "code",
   "execution_count": null,
   "metadata": {},
   "outputs": [],
   "source": [
    "predict.grades_master.to_csv('/home/keiba/src/data/tmp/pred_race_grades.csv')"
   ]
  },
  {
   "attachments": {},
   "cell_type": "markdown",
   "metadata": {},
   "source": [
    "#### 5-11. モデル用クラスをインスタンス化"
   ]
  },
  {
   "cell_type": "code",
   "execution_count": null,
   "metadata": {},
   "outputs": [],
   "source": [
    "data_pred = data_training(lps, pred_tdp, df_cols)"
   ]
  },
  {
   "attachments": {},
   "cell_type": "markdown",
   "metadata": {},
   "source": [
    "#### 5-12. 予測結果を表示・json出力"
   ]
  },
  {
   "cell_type": "code",
   "execution_count": null,
   "metadata": {},
   "outputs": [],
   "source": [
    "data_pred.model_predict_detail(pred_data)"
   ]
  }
 ],
 "metadata": {
  "kernelspec": {
   "display_name": "Python 3.9.14 64-bit",
   "language": "python",
   "name": "python3"
  },
  "language_info": {
   "codemirror_mode": {
    "name": "ipython",
    "version": 3
   },
   "file_extension": ".py",
   "mimetype": "text/x-python",
   "name": "python",
   "nbconvert_exporter": "python",
   "pygments_lexer": "ipython3",
   "version": "3.9.16"
  },
  "orig_nbformat": 4,
  "vscode": {
   "interpreter": {
    "hash": "949777d72b0d2535278d3dc13498b2535136f6dfe0678499012e853ee9abcab1"
   }
  }
 },
 "nbformat": 4,
 "nbformat_minor": 2
}
